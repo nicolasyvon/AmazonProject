{
  "cells": [
    {
      "cell_type": "markdown",
      "metadata": {
        "id": "si42YPIFJD-o"
      },
      "source": [
        "#**PROJET DEEP LEARNING**\n",
        "\n",
        "##Equipe 5 : AZZOUZI Mouna - BERRADA Amine - CLAIN Nicolas - SO Absa - YEMELE Ivana"
      ]
    },
    {
      "cell_type": "markdown",
      "metadata": {
        "id": "79zeR2idJw54"
      },
      "source": [
        "##**OBJECTIF : déterminer la note d'un produit à partir du titre de sa review**"
      ]
    },
    {
      "cell_type": "markdown",
      "metadata": {
        "id": "xifCRnUwJ_uP"
      },
      "source": [
        "###Imports nécessaires pour le projet"
      ]
    },
    {
      "cell_type": "code",
      "execution_count": null,
      "metadata": {
        "id": "KJygqyBt0jMB"
      },
      "outputs": [],
      "source": [
        "import pandas as pd\n",
        "import os\n",
        "import shutil\n",
        "from tensorflow.keras import utils\n",
        "from tensorflow.keras import layers\n",
        "from tensorflow.keras import losses\n",
        "from tensorflow.keras.utils import plot_model\n",
        "from tensorflow.keras.layers import Dense\n",
        "from tensorflow.keras.layers import TextVectorization\n",
        "import tensorflow as tf\n",
        "import matplotlib.pyplot as plt\n",
        "import seaborn as sn\n",
        "import numpy as np"
      ]
    },
    {
      "cell_type": "markdown",
      "metadata": {
        "id": "wMsvK0aQKY0v"
      },
      "source": [
        "### Création du dossier contenant notre jeu de données et des sous-dossier de train et de test"
      ]
    },
    {
      "cell_type": "code",
      "execution_count": null,
      "metadata": {
        "id": "2-eqxLS3ARtt"
      },
      "outputs": [],
      "source": [
        "if os.path.exists(\"reviews\"):\n",
        "    shutil.rmtree('reviews')\n",
        "os.makedirs(\"reviews\")"
      ]
    },
    {
      "cell_type": "code",
      "execution_count": null,
      "metadata": {
        "id": "fpXXnEZHNaU3"
      },
      "outputs": [],
      "source": [
        "os.makedirs(\"reviews/train\")\n",
        "os.makedirs(\"reviews/test\")"
      ]
    },
    {
      "cell_type": "markdown",
      "metadata": {
        "id": "BexRu3EBKfNn"
      },
      "source": [
        "###Téléchargement de notre jeu de données"
      ]
    },
    {
      "cell_type": "code",
      "execution_count": null,
      "metadata": {
        "colab": {
          "base_uri": "https://localhost:8080/"
        },
        "id": "DJY8LwUWfOhp",
        "outputId": "d4cde1a1-cc6d-4644-f315-d98f2ae627bf"
      },
      "outputs": [
        {
          "name": "stdout",
          "output_type": "stream",
          "text": [
            "Downloading data from https://s3.amazonaws.com/amazon-reviews-pds/tsv/amazon_reviews_us_Music_v1_00.tsv.gz\n",
            "1521994296/1521994296 [==============================] - 96s 0us/step\n"
          ]
        }
      ],
      "source": [
        "url = \"https://s3.amazonaws.com/amazon-reviews-pds/tsv/amazon_reviews_us_Music_v1_00.tsv.gz\"\n",
        "\n",
        "dataset_dir = utils.get_file(\n",
        "    origin=url,\n",
        "    extract=True,\n",
        "    cache_dir='./reviews',\n",
        "    cache_subdir='')"
      ]
    },
    {
      "cell_type": "code",
      "execution_count": null,
      "metadata": {
        "colab": {
          "base_uri": "https://localhost:8080/"
        },
        "id": "80b2SJ6dnSBK",
        "outputId": "628f5185-4a9d-4eb8-88b8-1e12a3337456"
      },
      "outputs": [
        {
          "name": "stdout",
          "output_type": "stream",
          "text": [
            "gzip: /content/datasets/amazon_reviews_us_Music_v1_00.tsv.gz: No such file or directory\n"
          ]
        }
      ],
      "source": [
        "!gzip -d /content/datasets/amazon_reviews_us_Music_v1_00.tsv.gz"
      ]
    },
    {
      "cell_type": "markdown",
      "metadata": {
        "id": "UhenDGUcLHxv"
      },
      "source": [
        "##Nettoyage de nos données\n",
        "L'objectif ici est de créer un dataframe ne contenant que les titres de reviews et la note associée"
      ]
    },
    {
      "cell_type": "code",
      "execution_count": null,
      "metadata": {
        "colab": {
          "base_uri": "https://localhost:8080/"
        },
        "id": "QOc49whSk7QZ",
        "outputId": "39322c12-9d34-4e66-b3d1-060183edeb0c"
      },
      "outputs": [
        {
          "name": "stderr",
          "output_type": "stream",
          "text": [
            "/usr/local/lib/python3.7/dist-packages/IPython/core/interactiveshell.py:3326: FutureWarning: The error_bad_lines argument has been deprecated and will be removed in a future version.\n",
            "\n",
            "\n",
            "  exec(code_obj, self.user_global_ns, self.user_ns)\n",
            "b'Skipping line 1806: expected 15 fields, saw 22\\n'\n",
            "b'Skipping line 122830: expected 15 fields, saw 22\\nSkipping line 128573: expected 15 fields, saw 22\\n'\n",
            "b'Skipping line 132725: expected 15 fields, saw 22\\nSkipping line 139782: expected 15 fields, saw 22\\nSkipping line 141362: expected 15 fields, saw 22\\nSkipping line 151132: expected 15 fields, saw 22\\nSkipping line 168466: expected 15 fields, saw 22\\nSkipping line 171654: expected 15 fields, saw 22\\nSkipping line 178479: expected 15 fields, saw 22\\nSkipping line 179537: expected 15 fields, saw 22\\nSkipping line 190573: expected 15 fields, saw 22\\n'\n",
            "b'Skipping line 205670: expected 15 fields, saw 22\\nSkipping line 229584: expected 15 fields, saw 22\\nSkipping line 241528: expected 15 fields, saw 22\\n'\n",
            "b'Skipping line 295811: expected 15 fields, saw 22\\nSkipping line 297963: expected 15 fields, saw 22\\nSkipping line 303035: expected 15 fields, saw 22\\nSkipping line 326369: expected 15 fields, saw 22\\n'\n",
            "b'Skipping line 331142: expected 15 fields, saw 22\\nSkipping line 345278: expected 15 fields, saw 22\\nSkipping line 346703: expected 15 fields, saw 22\\nSkipping line 348393: expected 15 fields, saw 22\\nSkipping line 348548: expected 15 fields, saw 22\\nSkipping line 385240: expected 15 fields, saw 22\\n'\n",
            "b'Skipping line 418409: expected 15 fields, saw 22\\nSkipping line 448617: expected 15 fields, saw 22\\n'\n",
            "b'Skipping line 511942: expected 15 fields, saw 22\\n'\n",
            "b'Skipping line 535386: expected 15 fields, saw 22\\nSkipping line 549447: expected 15 fields, saw 22\\nSkipping line 579701: expected 15 fields, saw 22\\n'\n",
            "b'Skipping line 592267: expected 15 fields, saw 22\\nSkipping line 594316: expected 15 fields, saw 22\\n'\n",
            "b'Skipping line 669624: expected 15 fields, saw 22\\nSkipping line 682959: expected 15 fields, saw 22\\n'\n",
            "b'Skipping line 759184: expected 15 fields, saw 22\\n'\n",
            "b'Skipping line 788244: expected 15 fields, saw 22\\nSkipping line 809257: expected 15 fields, saw 22\\nSkipping line 840787: expected 15 fields, saw 22\\nSkipping line 841532: expected 15 fields, saw 22\\n'\n",
            "/usr/local/lib/python3.7/dist-packages/IPython/core/interactiveshell.py:3326: DtypeWarning: Columns (7) have mixed types.Specify dtype option on import or set low_memory=False.\n",
            "  exec(code_obj, self.user_global_ns, self.user_ns)\n"
          ]
        }
      ],
      "source": [
        "df = pd.read_table('reviews/amazon_reviews_us_Music_v1_00.tsv.gz', error_bad_lines=False)"
      ]
    },
    {
      "cell_type": "code",
      "execution_count": null,
      "metadata": {
        "id": "PLsUB2-5AIe9"
      },
      "outputs": [],
      "source": [
        "df= df.dropna()"
      ]
    },
    {
      "cell_type": "code",
      "execution_count": null,
      "metadata": {
        "colab": {
          "base_uri": "https://localhost:8080/",
          "height": 424
        },
        "id": "4i-zveUZv_no",
        "outputId": "b40e538a-4553-429c-ff31-7dcc683d906b"
      },
      "outputs": [
        {
          "data": {
            "text/html": [
              "\n",
              "  <div id=\"df-56fae524-d740-44a1-919f-73814509ebec\">\n",
              "    <div class=\"colab-df-container\">\n",
              "      <div>\n",
              "<style scoped>\n",
              "    .dataframe tbody tr th:only-of-type {\n",
              "        vertical-align: middle;\n",
              "    }\n",
              "\n",
              "    .dataframe tbody tr th {\n",
              "        vertical-align: top;\n",
              "    }\n",
              "\n",
              "    .dataframe thead th {\n",
              "        text-align: right;\n",
              "    }\n",
              "</style>\n",
              "<table border=\"1\" class=\"dataframe\">\n",
              "  <thead>\n",
              "    <tr style=\"text-align: right;\">\n",
              "      <th></th>\n",
              "      <th>review_headline</th>\n",
              "      <th>star_rating</th>\n",
              "    </tr>\n",
              "  </thead>\n",
              "  <tbody>\n",
              "    <tr>\n",
              "      <th>0</th>\n",
              "      <td>Five Stars</td>\n",
              "      <td>5</td>\n",
              "    </tr>\n",
              "    <tr>\n",
              "      <th>1</th>\n",
              "      <td>A new fave in our house</td>\n",
              "      <td>5</td>\n",
              "    </tr>\n",
              "    <tr>\n",
              "      <th>2</th>\n",
              "      <td>Five Stars</td>\n",
              "      <td>5</td>\n",
              "    </tr>\n",
              "    <tr>\n",
              "      <th>3</th>\n",
              "      <td>Three Stars</td>\n",
              "      <td>3</td>\n",
              "    </tr>\n",
              "    <tr>\n",
              "      <th>4</th>\n",
              "      <td>Five Stars</td>\n",
              "      <td>5</td>\n",
              "    </tr>\n",
              "    <tr>\n",
              "      <th>...</th>\n",
              "      <td>...</td>\n",
              "      <td>...</td>\n",
              "    </tr>\n",
              "    <tr>\n",
              "      <th>4740844</th>\n",
              "      <td>Excellent! Melodic; superb vocal harmonies! A ...</td>\n",
              "      <td>5</td>\n",
              "    </tr>\n",
              "    <tr>\n",
              "      <th>4740845</th>\n",
              "      <td>The upmost delightful sound collection you can...</td>\n",
              "      <td>5</td>\n",
              "    </tr>\n",
              "    <tr>\n",
              "      <th>4740846</th>\n",
              "      <td>Wonderful Celtic/American folk</td>\n",
              "      <td>5</td>\n",
              "    </tr>\n",
              "    <tr>\n",
              "      <th>4740847</th>\n",
              "      <td>Kiss' return to hard rock from Disco. One of t...</td>\n",
              "      <td>4</td>\n",
              "    </tr>\n",
              "    <tr>\n",
              "      <th>4740848</th>\n",
              "      <td>Pulp Fiction Soundtrack: EXCELLENT!!!!</td>\n",
              "      <td>5</td>\n",
              "    </tr>\n",
              "  </tbody>\n",
              "</table>\n",
              "<p>4740229 rows × 2 columns</p>\n",
              "</div>\n",
              "      <button class=\"colab-df-convert\" onclick=\"convertToInteractive('df-56fae524-d740-44a1-919f-73814509ebec')\"\n",
              "              title=\"Convert this dataframe to an interactive table.\"\n",
              "              style=\"display:none;\">\n",
              "        \n",
              "  <svg xmlns=\"http://www.w3.org/2000/svg\" height=\"24px\"viewBox=\"0 0 24 24\"\n",
              "       width=\"24px\">\n",
              "    <path d=\"M0 0h24v24H0V0z\" fill=\"none\"/>\n",
              "    <path d=\"M18.56 5.44l.94 2.06.94-2.06 2.06-.94-2.06-.94-.94-2.06-.94 2.06-2.06.94zm-11 1L8.5 8.5l.94-2.06 2.06-.94-2.06-.94L8.5 2.5l-.94 2.06-2.06.94zm10 10l.94 2.06.94-2.06 2.06-.94-2.06-.94-.94-2.06-.94 2.06-2.06.94z\"/><path d=\"M17.41 7.96l-1.37-1.37c-.4-.4-.92-.59-1.43-.59-.52 0-1.04.2-1.43.59L10.3 9.45l-7.72 7.72c-.78.78-.78 2.05 0 2.83L4 21.41c.39.39.9.59 1.41.59.51 0 1.02-.2 1.41-.59l7.78-7.78 2.81-2.81c.8-.78.8-2.07 0-2.86zM5.41 20L4 18.59l7.72-7.72 1.47 1.35L5.41 20z\"/>\n",
              "  </svg>\n",
              "      </button>\n",
              "      \n",
              "  <style>\n",
              "    .colab-df-container {\n",
              "      display:flex;\n",
              "      flex-wrap:wrap;\n",
              "      gap: 12px;\n",
              "    }\n",
              "\n",
              "    .colab-df-convert {\n",
              "      background-color: #E8F0FE;\n",
              "      border: none;\n",
              "      border-radius: 50%;\n",
              "      cursor: pointer;\n",
              "      display: none;\n",
              "      fill: #1967D2;\n",
              "      height: 32px;\n",
              "      padding: 0 0 0 0;\n",
              "      width: 32px;\n",
              "    }\n",
              "\n",
              "    .colab-df-convert:hover {\n",
              "      background-color: #E2EBFA;\n",
              "      box-shadow: 0px 1px 2px rgba(60, 64, 67, 0.3), 0px 1px 3px 1px rgba(60, 64, 67, 0.15);\n",
              "      fill: #174EA6;\n",
              "    }\n",
              "\n",
              "    [theme=dark] .colab-df-convert {\n",
              "      background-color: #3B4455;\n",
              "      fill: #D2E3FC;\n",
              "    }\n",
              "\n",
              "    [theme=dark] .colab-df-convert:hover {\n",
              "      background-color: #434B5C;\n",
              "      box-shadow: 0px 1px 3px 1px rgba(0, 0, 0, 0.15);\n",
              "      filter: drop-shadow(0px 1px 2px rgba(0, 0, 0, 0.3));\n",
              "      fill: #FFFFFF;\n",
              "    }\n",
              "  </style>\n",
              "\n",
              "      <script>\n",
              "        const buttonEl =\n",
              "          document.querySelector('#df-56fae524-d740-44a1-919f-73814509ebec button.colab-df-convert');\n",
              "        buttonEl.style.display =\n",
              "          google.colab.kernel.accessAllowed ? 'block' : 'none';\n",
              "\n",
              "        async function convertToInteractive(key) {\n",
              "          const element = document.querySelector('#df-56fae524-d740-44a1-919f-73814509ebec');\n",
              "          const dataTable =\n",
              "            await google.colab.kernel.invokeFunction('convertToInteractive',\n",
              "                                                     [key], {});\n",
              "          if (!dataTable) return;\n",
              "\n",
              "          const docLinkHtml = 'Like what you see? Visit the ' +\n",
              "            '<a target=\"_blank\" href=https://colab.research.google.com/notebooks/data_table.ipynb>data table notebook</a>'\n",
              "            + ' to learn more about interactive tables.';\n",
              "          element.innerHTML = '';\n",
              "          dataTable['output_type'] = 'display_data';\n",
              "          await google.colab.output.renderOutput(dataTable, element);\n",
              "          const docLink = document.createElement('div');\n",
              "          docLink.innerHTML = docLinkHtml;\n",
              "          element.appendChild(docLink);\n",
              "        }\n",
              "      </script>\n",
              "    </div>\n",
              "  </div>\n",
              "  "
            ],
            "text/plain": [
              "                                           review_headline star_rating\n",
              "0                                               Five Stars           5\n",
              "1                                  A new fave in our house           5\n",
              "2                                               Five Stars           5\n",
              "3                                              Three Stars           3\n",
              "4                                               Five Stars           5\n",
              "...                                                    ...         ...\n",
              "4740844  Excellent! Melodic; superb vocal harmonies! A ...           5\n",
              "4740845  The upmost delightful sound collection you can...           5\n",
              "4740846                     Wonderful Celtic/American folk           5\n",
              "4740847  Kiss' return to hard rock from Disco. One of t...           4\n",
              "4740848             Pulp Fiction Soundtrack: EXCELLENT!!!!           5\n",
              "\n",
              "[4740229 rows x 2 columns]"
            ]
          },
          "execution_count": 8,
          "metadata": {},
          "output_type": "execute_result"
        }
      ],
      "source": [
        "df = df[['review_headline', 'star_rating']]\n",
        "df"
      ]
    },
    {
      "cell_type": "code",
      "execution_count": null,
      "metadata": {
        "colab": {
          "base_uri": "https://localhost:8080/",
          "height": 424
        },
        "id": "U4Z01bumw9Wa",
        "outputId": "f6a9658f-8b31-4eeb-85e4-10d1bc21d017"
      },
      "outputs": [
        {
          "data": {
            "text/html": [
              "\n",
              "  <div id=\"df-e8aa9b45-8298-4077-bf2f-0bc47fc0b2b9\">\n",
              "    <div class=\"colab-df-container\">\n",
              "      <div>\n",
              "<style scoped>\n",
              "    .dataframe tbody tr th:only-of-type {\n",
              "        vertical-align: middle;\n",
              "    }\n",
              "\n",
              "    .dataframe tbody tr th {\n",
              "        vertical-align: top;\n",
              "    }\n",
              "\n",
              "    .dataframe thead th {\n",
              "        text-align: right;\n",
              "    }\n",
              "</style>\n",
              "<table border=\"1\" class=\"dataframe\">\n",
              "  <thead>\n",
              "    <tr style=\"text-align: right;\">\n",
              "      <th></th>\n",
              "      <th>review_headline</th>\n",
              "      <th>star_rating</th>\n",
              "    </tr>\n",
              "  </thead>\n",
              "  <tbody>\n",
              "    <tr>\n",
              "      <th>0</th>\n",
              "      <td>Five Stars</td>\n",
              "      <td>5</td>\n",
              "    </tr>\n",
              "    <tr>\n",
              "      <th>1</th>\n",
              "      <td>A new fave in our house</td>\n",
              "      <td>5</td>\n",
              "    </tr>\n",
              "    <tr>\n",
              "      <th>2</th>\n",
              "      <td>Five Stars</td>\n",
              "      <td>5</td>\n",
              "    </tr>\n",
              "    <tr>\n",
              "      <th>3</th>\n",
              "      <td>Three Stars</td>\n",
              "      <td>3</td>\n",
              "    </tr>\n",
              "    <tr>\n",
              "      <th>4</th>\n",
              "      <td>Five Stars</td>\n",
              "      <td>5</td>\n",
              "    </tr>\n",
              "    <tr>\n",
              "      <th>...</th>\n",
              "      <td>...</td>\n",
              "      <td>...</td>\n",
              "    </tr>\n",
              "    <tr>\n",
              "      <th>4740224</th>\n",
              "      <td>Excellent! Melodic; superb vocal harmonies! A ...</td>\n",
              "      <td>5</td>\n",
              "    </tr>\n",
              "    <tr>\n",
              "      <th>4740225</th>\n",
              "      <td>The upmost delightful sound collection you can...</td>\n",
              "      <td>5</td>\n",
              "    </tr>\n",
              "    <tr>\n",
              "      <th>4740226</th>\n",
              "      <td>Wonderful Celtic/American folk</td>\n",
              "      <td>5</td>\n",
              "    </tr>\n",
              "    <tr>\n",
              "      <th>4740227</th>\n",
              "      <td>Kiss' return to hard rock from Disco. One of t...</td>\n",
              "      <td>4</td>\n",
              "    </tr>\n",
              "    <tr>\n",
              "      <th>4740228</th>\n",
              "      <td>Pulp Fiction Soundtrack: EXCELLENT!!!!</td>\n",
              "      <td>5</td>\n",
              "    </tr>\n",
              "  </tbody>\n",
              "</table>\n",
              "<p>4740229 rows × 2 columns</p>\n",
              "</div>\n",
              "      <button class=\"colab-df-convert\" onclick=\"convertToInteractive('df-e8aa9b45-8298-4077-bf2f-0bc47fc0b2b9')\"\n",
              "              title=\"Convert this dataframe to an interactive table.\"\n",
              "              style=\"display:none;\">\n",
              "        \n",
              "  <svg xmlns=\"http://www.w3.org/2000/svg\" height=\"24px\"viewBox=\"0 0 24 24\"\n",
              "       width=\"24px\">\n",
              "    <path d=\"M0 0h24v24H0V0z\" fill=\"none\"/>\n",
              "    <path d=\"M18.56 5.44l.94 2.06.94-2.06 2.06-.94-2.06-.94-.94-2.06-.94 2.06-2.06.94zm-11 1L8.5 8.5l.94-2.06 2.06-.94-2.06-.94L8.5 2.5l-.94 2.06-2.06.94zm10 10l.94 2.06.94-2.06 2.06-.94-2.06-.94-.94-2.06-.94 2.06-2.06.94z\"/><path d=\"M17.41 7.96l-1.37-1.37c-.4-.4-.92-.59-1.43-.59-.52 0-1.04.2-1.43.59L10.3 9.45l-7.72 7.72c-.78.78-.78 2.05 0 2.83L4 21.41c.39.39.9.59 1.41.59.51 0 1.02-.2 1.41-.59l7.78-7.78 2.81-2.81c.8-.78.8-2.07 0-2.86zM5.41 20L4 18.59l7.72-7.72 1.47 1.35L5.41 20z\"/>\n",
              "  </svg>\n",
              "      </button>\n",
              "      \n",
              "  <style>\n",
              "    .colab-df-container {\n",
              "      display:flex;\n",
              "      flex-wrap:wrap;\n",
              "      gap: 12px;\n",
              "    }\n",
              "\n",
              "    .colab-df-convert {\n",
              "      background-color: #E8F0FE;\n",
              "      border: none;\n",
              "      border-radius: 50%;\n",
              "      cursor: pointer;\n",
              "      display: none;\n",
              "      fill: #1967D2;\n",
              "      height: 32px;\n",
              "      padding: 0 0 0 0;\n",
              "      width: 32px;\n",
              "    }\n",
              "\n",
              "    .colab-df-convert:hover {\n",
              "      background-color: #E2EBFA;\n",
              "      box-shadow: 0px 1px 2px rgba(60, 64, 67, 0.3), 0px 1px 3px 1px rgba(60, 64, 67, 0.15);\n",
              "      fill: #174EA6;\n",
              "    }\n",
              "\n",
              "    [theme=dark] .colab-df-convert {\n",
              "      background-color: #3B4455;\n",
              "      fill: #D2E3FC;\n",
              "    }\n",
              "\n",
              "    [theme=dark] .colab-df-convert:hover {\n",
              "      background-color: #434B5C;\n",
              "      box-shadow: 0px 1px 3px 1px rgba(0, 0, 0, 0.15);\n",
              "      filter: drop-shadow(0px 1px 2px rgba(0, 0, 0, 0.3));\n",
              "      fill: #FFFFFF;\n",
              "    }\n",
              "  </style>\n",
              "\n",
              "      <script>\n",
              "        const buttonEl =\n",
              "          document.querySelector('#df-e8aa9b45-8298-4077-bf2f-0bc47fc0b2b9 button.colab-df-convert');\n",
              "        buttonEl.style.display =\n",
              "          google.colab.kernel.accessAllowed ? 'block' : 'none';\n",
              "\n",
              "        async function convertToInteractive(key) {\n",
              "          const element = document.querySelector('#df-e8aa9b45-8298-4077-bf2f-0bc47fc0b2b9');\n",
              "          const dataTable =\n",
              "            await google.colab.kernel.invokeFunction('convertToInteractive',\n",
              "                                                     [key], {});\n",
              "          if (!dataTable) return;\n",
              "\n",
              "          const docLinkHtml = 'Like what you see? Visit the ' +\n",
              "            '<a target=\"_blank\" href=https://colab.research.google.com/notebooks/data_table.ipynb>data table notebook</a>'\n",
              "            + ' to learn more about interactive tables.';\n",
              "          element.innerHTML = '';\n",
              "          dataTable['output_type'] = 'display_data';\n",
              "          await google.colab.output.renderOutput(dataTable, element);\n",
              "          const docLink = document.createElement('div');\n",
              "          docLink.innerHTML = docLinkHtml;\n",
              "          element.appendChild(docLink);\n",
              "        }\n",
              "      </script>\n",
              "    </div>\n",
              "  </div>\n",
              "  "
            ],
            "text/plain": [
              "                                           review_headline star_rating\n",
              "0                                               Five Stars           5\n",
              "1                                  A new fave in our house           5\n",
              "2                                               Five Stars           5\n",
              "3                                              Three Stars           3\n",
              "4                                               Five Stars           5\n",
              "...                                                    ...         ...\n",
              "4740224  Excellent! Melodic; superb vocal harmonies! A ...           5\n",
              "4740225  The upmost delightful sound collection you can...           5\n",
              "4740226                     Wonderful Celtic/American folk           5\n",
              "4740227  Kiss' return to hard rock from Disco. One of t...           4\n",
              "4740228             Pulp Fiction Soundtrack: EXCELLENT!!!!           5\n",
              "\n",
              "[4740229 rows x 2 columns]"
            ]
          },
          "execution_count": 9,
          "metadata": {},
          "output_type": "execute_result"
        }
      ],
      "source": [
        "df = df.reset_index(drop=True)\n",
        "df"
      ]
    },
    {
      "cell_type": "code",
      "execution_count": null,
      "metadata": {
        "id": "yCAFlyVBu6Eg"
      },
      "outputs": [],
      "source": [
        "list_headlines = df['review_headline'].unique()\n",
        "list_ratings = df['star_rating'].unique()"
      ]
    },
    {
      "cell_type": "markdown",
      "metadata": {
        "id": "uRxfQ1QTPoZG"
      },
      "source": [
        "##Remplissage des sous-dossiers de train et de test\n",
        "L'objectif ici est de créer dans chacun des sous-dossiers \"train\" et \"test\", un sous-dossier par note, et dans chacun de ces sous-dossiers, créer un fichier par un review et dont le contenu est le titre de la review."
      ]
    },
    {
      "cell_type": "code",
      "execution_count": null,
      "metadata": {
        "id": "76men4zIEmPb"
      },
      "outputs": [],
      "source": [
        "j = 1\n",
        "max_headlines = 2000\n",
        "nb_labels = 5\n",
        "for rating in list_ratings:\n",
        "    folder_path_train = \"reviews/train/\" + str(rating)\n",
        "    os.makedirs(folder_path_train)\n",
        "    folder_path_test = \"reviews/test/\" + str(rating)\n",
        "    os.makedirs(folder_path_test)\n",
        "    rating_headlines = df[df['star_rating'] == rating]\n",
        "    i = 0\n",
        "    for index_headline, headline in rating_headlines.iterrows():\n",
        "        if i < max_headlines:\n",
        "            path = folder_path_train + \"/\" + str(i) + \".txt\"\n",
        "            f = open(path, \"w+\", encoding=\"utf-8\")\n",
        "            f.write(str(headline[\"review_headline\"]))\n",
        "            f.close()\n",
        "        if i > max_headlines :\n",
        "            path = folder_path_test + \"/\" + str(i) + \".txt\"\n",
        "            f = open(path, \"w+\", encoding=\"utf-8\")\n",
        "            f.write(str(headline[\"review_headline\"]))\n",
        "            f.close()\n",
        "        if i > 2 * max_headlines:\n",
        "            break\n",
        "\n",
        "        i += 1\n",
        "    if j >= nb_labels:\n",
        "        break\n",
        "    j+=1"
      ]
    },
    {
      "cell_type": "markdown",
      "metadata": {
        "id": "U-eZ1zwkRk1c"
      },
      "source": [
        "##Création des batches d'entraînement, de test et de validation"
      ]
    },
    {
      "cell_type": "code",
      "execution_count": null,
      "metadata": {
        "colab": {
          "base_uri": "https://localhost:8080/"
        },
        "id": "h4_k__cAKLCz",
        "outputId": "f362d3cc-db65-4fe8-952e-0e2f23c782e4"
      },
      "outputs": [
        {
          "name": "stdout",
          "output_type": "stream",
          "text": [
            "Found 10000 files belonging to 5 classes.\n",
            "Using 8000 files for training.\n",
            "Found 10000 files belonging to 5 classes.\n",
            "Using 2000 files for validation.\n",
            "Found 10005 files belonging to 5 classes.\n"
          ]
        }
      ],
      "source": [
        "batch_size = 32\n",
        "validation_size_percentage = 0.2\n",
        "seed = 40 \n",
        "\n",
        "train_batch = utils.text_dataset_from_directory(\n",
        "    \"reviews/train\",\n",
        "    batch_size=batch_size,\n",
        "    validation_split= validation_size_percentage,\n",
        "    subset='training',\n",
        "    seed=seed)\n",
        "\n",
        "validation_batch = utils.text_dataset_from_directory(\n",
        "    \"reviews/train\",\n",
        "    batch_size=batch_size,\n",
        "    validation_split= validation_size_percentage,\n",
        "    subset='validation',\n",
        "    seed=seed)\n",
        "\n",
        "test_batch = utils.text_dataset_from_directory(\n",
        "    \"reviews/test\",\n",
        "    batch_size=batch_size)"
      ]
    },
    {
      "cell_type": "markdown",
      "metadata": {
        "id": "I0n-faqPSGpr"
      },
      "source": [
        "##Préparation aux vectorisations"
      ]
    },
    {
      "cell_type": "code",
      "execution_count": null,
      "metadata": {
        "id": "tSSx9ruZRs0M"
      },
      "outputs": [],
      "source": [
        "vocabulary_size = 20000\n",
        "max_sequence_length = 20"
      ]
    },
    {
      "cell_type": "markdown",
      "metadata": {
        "id": "5qVb4i_nR0RE"
      },
      "source": [
        "##Essai avec la binary vectorization"
      ]
    },
    {
      "cell_type": "code",
      "execution_count": null,
      "metadata": {
        "id": "X9NDwxqTpdRW"
      },
      "outputs": [],
      "source": [
        "binary_vectorize_layer = TextVectorization(\n",
        "    max_tokens=vocabulary_size,\n",
        "    output_mode='binary')\n",
        "\n",
        "train_text = train_batch.map(lambda text, labels: text)\n",
        "binary_vectorize_layer.adapt(train_text)"
      ]
    },
    {
      "cell_type": "code",
      "execution_count": null,
      "metadata": {
        "id": "NBQt3dcmpPZ-"
      },
      "outputs": [],
      "source": [
        "def binary_vectorize(text, label):\n",
        "    text = tf.expand_dims(text, -1)\n",
        "    return binary_vectorize_layer(text), label"
      ]
    },
    {
      "cell_type": "code",
      "execution_count": null,
      "metadata": {
        "id": "2AcBdZmxpWgW"
      },
      "outputs": [],
      "source": [
        "binary_train_batch = train_batch.map(binary_vectorize)\n",
        "binary_validation_batch = validation_batch.map(binary_vectorize)\n",
        "binary_test_batch = test_batch.map(binary_vectorize)"
      ]
    },
    {
      "cell_type": "code",
      "execution_count": null,
      "metadata": {
        "colab": {
          "background_save": true
        },
        "id": "vMxGwHB-L3sX",
        "outputId": "acdd2615-e5ab-444a-fa7d-504543791008"
      },
      "outputs": [
        {
          "name": "stdout",
          "output_type": "stream",
          "text": [
            "Model number  1\n",
            "Epoch 1/10\n",
            "250/250 [==============================] - 284s 1s/step - loss: 1.3789 - accuracy: 0.4230 - val_loss: 1.2957 - val_accuracy: 0.4525\n",
            "Epoch 2/10\n",
            "250/250 [==============================] - 290s 1s/step - loss: 1.2719 - accuracy: 0.4499 - val_loss: 1.2459 - val_accuracy: 0.4455\n",
            "Epoch 3/10\n",
            "250/250 [==============================] - 282s 1s/step - loss: 1.2571 - accuracy: 0.4582 - val_loss: 1.2239 - val_accuracy: 0.4510\n",
            "Epoch 4/10\n",
            "250/250 [==============================] - 284s 1s/step - loss: 1.2428 - accuracy: 0.4595 - val_loss: 1.2184 - val_accuracy: 0.4485\n",
            "Epoch 5/10\n",
            "250/250 [==============================] - 281s 1s/step - loss: 1.2324 - accuracy: 0.4641 - val_loss: 1.2139 - val_accuracy: 0.4505\n",
            "Epoch 6/10\n",
            "250/250 [==============================] - 282s 1s/step - loss: 1.2325 - accuracy: 0.4597 - val_loss: 1.2134 - val_accuracy: 0.4525\n",
            "Epoch 7/10\n",
            "250/250 [==============================] - 280s 1s/step - loss: 1.2299 - accuracy: 0.4576 - val_loss: 1.2296 - val_accuracy: 0.4530\n",
            "Epoch 8/10\n",
            "250/250 [==============================] - 278s 1s/step - loss: 1.2245 - accuracy: 0.4579 - val_loss: 1.2251 - val_accuracy: 0.4490\n",
            "Epoch 9/10\n",
            "250/250 [==============================] - 276s 1s/step - loss: 1.2259 - accuracy: 0.4602 - val_loss: 1.2024 - val_accuracy: 0.4500\n",
            "Epoch 10/10\n",
            "250/250 [==============================] - 276s 1s/step - loss: 1.2248 - accuracy: 0.4602 - val_loss: 1.2094 - val_accuracy: 0.4500\n",
            "Model: \"sequential_5\"\n",
            "_________________________________________________________________\n",
            " Layer (type)                Output Shape              Param #   \n",
            "=================================================================\n",
            " embedding_5 (Embedding)     (None, None, 128)         2560128   \n",
            "                                                                 \n",
            " conv1d_1 (Conv1D)           (None, None, 128)         82048     \n",
            "                                                                 \n",
            " global_max_pooling1d_1 (Glo  (None, 128)              0         \n",
            " balMaxPooling1D)                                                \n",
            "                                                                 \n",
            " dropout_8 (Dropout)         (None, 128)               0         \n",
            "                                                                 \n",
            " dense_9 (Dense)             (None, 5)                 645       \n",
            "                                                                 \n",
            "=================================================================\n",
            "Total params: 2,642,821\n",
            "Trainable params: 2,642,821\n",
            "Non-trainable params: 0\n",
            "_________________________________________________________________\n",
            "None\n"
          ]
        },
        {
          "data": {
            "image/png": "[encoded data removed]",
            "text/plain": [
              "<Figure size 432x288 with 1 Axes>"
            ]
          },
          "metadata": {},
          "output_type": "display_data"
        },
        {
          "name": "stdout",
          "output_type": "stream",
          "text": [
            "313/313 [==============================] - 93s 297ms/step - loss: 1.2068 - accuracy: 0.4435\n",
            "Int model accuracy: 44.35%\n",
            "==================================================\n",
            "Model number  2\n",
            "Epoch 1/10\n",
            "250/250 [==============================] - 277s 1s/step - loss: 1.4435 - accuracy: 0.3931 - val_loss: 1.3011 - val_accuracy: 0.4480\n",
            "Epoch 2/10\n",
            "250/250 [==============================] - 272s 1s/step - loss: 1.3276 - accuracy: 0.4507 - val_loss: 1.2652 - val_accuracy: 0.4440\n",
            "Epoch 3/10\n",
            "250/250 [==============================] - 271s 1s/step - loss: 1.2990 - accuracy: 0.4555 - val_loss: 1.2647 - val_accuracy: 0.4505\n",
            "Epoch 4/10\n",
            "250/250 [==============================] - 273s 1s/step - loss: 1.2885 - accuracy: 0.4611 - val_loss: 1.2480 - val_accuracy: 0.4485\n",
            "Epoch 5/10\n",
            "250/250 [==============================] - 274s 1s/step - loss: 1.2791 - accuracy: 0.4574 - val_loss: 1.2504 - val_accuracy: 0.4470\n",
            "Epoch 6/10\n",
            "250/250 [==============================] - 272s 1s/step - loss: 1.2830 - accuracy: 0.4515 - val_loss: 1.2438 - val_accuracy: 0.4480\n",
            "Epoch 7/10\n",
            "250/250 [==============================] - 272s 1s/step - loss: 1.2662 - accuracy: 0.4636 - val_loss: 1.2365 - val_accuracy: 0.4495\n",
            "Epoch 8/10\n",
            "250/250 [==============================] - 271s 1s/step - loss: 1.2790 - accuracy: 0.4502 - val_loss: 1.2376 - val_accuracy: 0.4465\n",
            "Epoch 9/10\n",
            "250/250 [==============================] - 274s 1s/step - loss: 1.2632 - accuracy: 0.4596 - val_loss: 1.2334 - val_accuracy: 0.4500\n",
            "Epoch 10/10\n",
            "250/250 [==============================] - 273s 1s/step - loss: 1.2655 - accuracy: 0.4616 - val_loss: 1.2405 - val_accuracy: 0.4480\n",
            "Model: \"sequential_6\"\n",
            "_________________________________________________________________\n",
            " Layer (type)                Output Shape              Param #   \n",
            "=================================================================\n",
            " embedding_6 (Embedding)     (None, None, 128)         2560128   \n",
            "                                                                 \n",
            " conv1d_2 (Conv1D)           (None, None, 128)         82048     \n",
            "                                                                 \n",
            " global_max_pooling1d_2 (Glo  (None, 128)              0         \n",
            " balMaxPooling1D)                                                \n",
            "                                                                 \n",
            " dropout_9 (Dropout)         (None, 128)               0         \n",
            "                                                                 \n",
            " dense_10 (Dense)            (None, 5)                 645       \n",
            "                                                                 \n",
            "=================================================================\n",
            "Total params: 2,642,821\n",
            "Trainable params: 2,642,821\n",
            "Non-trainable params: 0\n",
            "_________________________________________________________________\n",
            "None\n"
          ]
        },
        {
          "data": {
            "image/png": "[encoded data removed]",
            "text/plain": [
              "<Figure size 432x288 with 1 Axes>"
            ]
          },
          "metadata": {},
          "output_type": "display_data"
        },
        {
          "name": "stdout",
          "output_type": "stream",
          "text": [
            "313/313 [==============================] - 90s 287ms/step - loss: 1.2432 - accuracy: 0.4441\n",
            "Int model accuracy: 44.41%\n",
            "==================================================\n",
            "Model number  3\n",
            "Epoch 1/10\n",
            "250/250 [==============================] - 274s 1s/step - loss: 1.4990 - accuracy: 0.3561 - val_loss: 1.3611 - val_accuracy: 0.4505\n",
            "Epoch 2/10\n",
            "250/250 [==============================] - 271s 1s/step - loss: 1.3742 - accuracy: 0.4305 - val_loss: 1.3018 - val_accuracy: 0.4485\n",
            "Epoch 3/10\n",
            "250/250 [==============================] - 270s 1s/step - loss: 1.3636 - accuracy: 0.4376 - val_loss: 1.2972 - val_accuracy: 0.4480\n",
            "Epoch 4/10\n",
            "250/250 [==============================] - 267s 1s/step - loss: 1.3473 - accuracy: 0.4445 - val_loss: 1.2874 - val_accuracy: 0.4505\n",
            "Epoch 5/10\n",
            "250/250 [==============================] - 268s 1s/step - loss: 1.3440 - accuracy: 0.4524 - val_loss: 1.2799 - val_accuracy: 0.4490\n",
            "Epoch 6/10\n",
            "250/250 [==============================] - 267s 1s/step - loss: 1.3365 - accuracy: 0.4530 - val_loss: 1.2791 - val_accuracy: 0.4475\n",
            "Epoch 7/10\n",
            "250/250 [==============================] - 268s 1s/step - loss: 1.3321 - accuracy: 0.4511 - val_loss: 1.2834 - val_accuracy: 0.4495\n",
            "Epoch 8/10\n",
            "250/250 [==============================] - 267s 1s/step - loss: 1.3425 - accuracy: 0.4490 - val_loss: 1.2906 - val_accuracy: 0.4500\n",
            "Epoch 9/10\n",
            "250/250 [==============================] - 269s 1s/step - loss: 1.3349 - accuracy: 0.4521 - val_loss: 1.2727 - val_accuracy: 0.4485\n",
            "Epoch 10/10\n",
            "250/250 [==============================] - 268s 1s/step - loss: 1.3374 - accuracy: 0.4474 - val_loss: 1.2752 - val_accuracy: 0.4500\n",
            "Model: \"sequential_7\"\n",
            "_________________________________________________________________\n",
            " Layer (type)                Output Shape              Param #   \n",
            "=================================================================\n",
            " embedding_7 (Embedding)     (None, None, 128)         2560128   \n",
            "                                                                 \n",
            " conv1d_3 (Conv1D)           (None, None, 128)         82048     \n",
            "                                                                 \n",
            " global_max_pooling1d_3 (Glo  (None, 128)              0         \n",
            " balMaxPooling1D)                                                \n",
            "                                                                 \n",
            " dropout_10 (Dropout)        (None, 128)               0         \n",
            "                                                                 \n",
            " dense_11 (Dense)            (None, 5)                 645       \n",
            "                                                                 \n",
            "=================================================================\n",
            "Total params: 2,642,821\n",
            "Trainable params: 2,642,821\n",
            "Non-trainable params: 0\n",
            "_________________________________________________________________\n",
            "None\n"
          ]
        },
        {
          "data": {
            "image/png": "[encoded data removed]",
            "text/plain": [
              "<Figure size 432x288 with 1 Axes>"
            ]
          },
          "metadata": {},
          "output_type": "display_data"
        },
        {
          "name": "stdout",
          "output_type": "stream",
          "text": [
            "313/313 [==============================] - 87s 279ms/step - loss: 1.2811 - accuracy: 0.4435\n",
            "Int model accuracy: 44.35%\n",
            "==================================================\n",
            "Model number  4\n",
            "Epoch 1/10\n",
            "250/250 [==============================] - 268s 1s/step - loss: 1.5400 - accuracy: 0.3146 - val_loss: 1.4276 - val_accuracy: 0.4475\n",
            "Epoch 2/10\n",
            "250/250 [==============================] - 269s 1s/step - loss: 1.4435 - accuracy: 0.3855 - val_loss: 1.3638 - val_accuracy: 0.4530\n",
            "Epoch 3/10\n",
            "250/250 [==============================] - 266s 1s/step - loss: 1.4275 - accuracy: 0.4065 - val_loss: 1.3475 - val_accuracy: 0.4500\n",
            "Epoch 4/10\n",
            "250/250 [==============================] - 266s 1s/step - loss: 1.4037 - accuracy: 0.4243 - val_loss: 1.3461 - val_accuracy: 0.4535\n",
            "Epoch 5/10\n",
            "250/250 [==============================] - 266s 1s/step - loss: 1.4059 - accuracy: 0.4297 - val_loss: 1.3400 - val_accuracy: 0.4475\n",
            "Epoch 6/10\n",
            "250/250 [==============================] - 268s 1s/step - loss: 1.3982 - accuracy: 0.4240 - val_loss: 1.3262 - val_accuracy: 0.4465\n",
            "Epoch 7/10\n",
            "250/250 [==============================] - 266s 1s/step - loss: 1.3943 - accuracy: 0.4311 - val_loss: 1.3234 - val_accuracy: 0.4470\n",
            "Epoch 8/10\n",
            "250/250 [==============================] - 268s 1s/step - loss: 1.3889 - accuracy: 0.4380 - val_loss: 1.3268 - val_accuracy: 0.4520\n",
            "Epoch 9/10\n",
            "250/250 [==============================] - 268s 1s/step - loss: 1.3906 - accuracy: 0.4372 - val_loss: 1.3212 - val_accuracy: 0.4530\n",
            "Epoch 10/10\n",
            "250/250 [==============================] - 267s 1s/step - loss: 1.3944 - accuracy: 0.4285 - val_loss: 1.3207 - val_accuracy: 0.4515\n",
            "Model: \"sequential_8\"\n",
            "_________________________________________________________________\n",
            " Layer (type)                Output Shape              Param #   \n",
            "=================================================================\n",
            " embedding_8 (Embedding)     (None, None, 128)         2560128   \n",
            "                                                                 \n",
            " conv1d_4 (Conv1D)           (None, None, 128)         82048     \n",
            "                                                                 \n",
            " global_max_pooling1d_4 (Glo  (None, 128)              0         \n",
            " balMaxPooling1D)                                                \n",
            "                                                                 \n",
            " dropout_11 (Dropout)        (None, 128)               0         \n",
            "                                                                 \n",
            " dense_12 (Dense)            (None, 5)                 645       \n",
            "                                                                 \n",
            "=================================================================\n",
            "Total params: 2,642,821\n",
            "Trainable params: 2,642,821\n",
            "Non-trainable params: 0\n",
            "_________________________________________________________________\n",
            "None\n"
          ]
        },
        {
          "data": {
            "image/png": "[encoded data removed]",
            "text/plain": [
              "<Figure size 432x288 with 1 Axes>"
            ]
          },
          "metadata": {},
          "output_type": "display_data"
        },
        {
          "name": "stdout",
          "output_type": "stream",
          "text": [
            "313/313 [==============================] - 86s 276ms/step - loss: 1.3269 - accuracy: 0.4411\n",
            "Int model accuracy: 44.11%\n",
            "==================================================\n"
          ]
        }
      ],
      "source": [
        "vocab_size=vocabulary_size + 1\n",
        "num_labels = 5\n",
        "\n",
        "list_dropouts = [0.2, 0.4, 0.6, 0.8]\n",
        "\n",
        "for i in range(len(list_dropouts)):\n",
        "  print(\"Model number \", i+1)\n",
        "  int_model = tf.keras.Sequential([\n",
        "      layers.Embedding(vocab_size, 128 , mask_zero=True),\n",
        "      layers.Conv1D(128, 5, padding=\"causal\", activation=\"relu\", strides=2),\n",
        "      layers.GlobalMaxPooling1D(),\n",
        "      layers.Dropout(list_dropouts[i]),\n",
        "      layers.Dense(num_labels)\n",
        "    ])\n",
        "  int_model.compile(\n",
        "    loss=losses.SparseCategoricalCrossentropy(from_logits=True),\n",
        "    optimizer='RMSprop',\n",
        "    metrics=['accuracy'])\n",
        "  history = int_model.fit(binary_train_batch, validation_data=binary_validation_batch, epochs=10)\n",
        "  print(int_model.summary())\n",
        "  metrics = history.history # comprend l'historiques des epochs : % accuracy pour chaque epoch, utilisé dans le plot\n",
        "  plt.plot(history.epoch, metrics['loss'], metrics['val_loss'], metrics['accuracy'])\n",
        "  plt.legend(['loss', 'val_loss'])\n",
        "  plt.show()\n",
        "  int_loss, int_accuracy = int_model.evaluate(binary_test_batch)\n",
        "  print(\"Int model accuracy: {:2.2%}\".format(int_accuracy))\n",
        "  print(\"==================================================\")"
      ]
    },
    {
      "cell_type": "markdown",
      "metadata": {
        "id": "UOvJsC7NTxNL"
      },
      "source": [
        "La binary vectorization de donne pas de résultat satisfaisant. Nous décidons donc de passer à l'int vectorization."
      ]
    },
    {
      "cell_type": "markdown",
      "metadata": {
        "id": "qUPSQOuJT4bN"
      },
      "source": [
        "##Essai avec la int vectorization"
      ]
    },
    {
      "cell_type": "code",
      "execution_count": null,
      "metadata": {
        "colab": {
          "background_save": true
        },
        "id": "pg549SMuLOO1"
      },
      "outputs": [],
      "source": [
        "int_vectorize_layer = TextVectorization(\n",
        "    max_tokens=vocabulary_size,\n",
        "    output_sequence_length=max_sequence_length,\n",
        "    output_mode='int')\n",
        "\n",
        "train_text = train_batch.map(lambda text, labels: text)\n",
        "int_vectorize_layer.adapt(train_text)"
      ]
    },
    {
      "cell_type": "code",
      "execution_count": null,
      "metadata": {
        "colab": {
          "background_save": true
        },
        "id": "lcS1wxZBLwlA"
      },
      "outputs": [],
      "source": [
        "def int_vectorize(text, label):\n",
        "    text = tf.expand_dims(text, -1)\n",
        "    return int_vectorize_layer(text), label"
      ]
    },
    {
      "cell_type": "code",
      "execution_count": null,
      "metadata": {
        "colab": {
          "background_save": true
        },
        "id": "T-1szPM0Lzfg"
      },
      "outputs": [],
      "source": [
        "int_train_batch = train_batch.map(int_vectorize)\n",
        "int_validation_batch = validation_batch.map(int_vectorize)\n",
        "int_test_batch = test_batch.map(int_vectorize)"
      ]
    },
    {
      "cell_type": "markdown",
      "metadata": {
        "id": "ydN8LpxbUS4j"
      },
      "source": [
        "Première tentative : jouer sur la valeur du dropout"
      ]
    },
    {
      "cell_type": "code",
      "execution_count": null,
      "metadata": {
        "colab": {
          "background_save": true,
          "base_uri": "https://localhost:8080/",
          "height": 1000
        },
        "id": "BH7ulzApEhS5",
        "outputId": "d546fef7-a6fb-4e73-d74a-5f2cf4aa3b7b"
      },
      "outputs": [
        {
          "name": "stdout",
          "output_type": "stream",
          "text": [
            "Model number  1\n",
            "Epoch 1/5\n",
            "250/250 [==============================] - 12s 44ms/step - loss: 1.0321 - accuracy: 0.5615 - val_loss: 0.9112 - val_accuracy: 0.5965\n",
            "Epoch 2/5\n",
            "250/250 [==============================] - 11s 42ms/step - loss: 0.8130 - accuracy: 0.6871 - val_loss: 0.8800 - val_accuracy: 0.6135\n",
            "Epoch 3/5\n",
            "250/250 [==============================] - 11s 45ms/step - loss: 0.6776 - accuracy: 0.7614 - val_loss: 0.8969 - val_accuracy: 0.6105\n",
            "Epoch 4/5\n",
            "250/250 [==============================] - 11s 42ms/step - loss: 0.5556 - accuracy: 0.8174 - val_loss: 0.9483 - val_accuracy: 0.6095\n",
            "Epoch 5/5\n",
            "250/250 [==============================] - 11s 42ms/step - loss: 0.4504 - accuracy: 0.8568 - val_loss: 1.0079 - val_accuracy: 0.6085\n",
            "Model: \"sequential_9\"\n",
            "_________________________________________________________________\n",
            " Layer (type)                Output Shape              Param #   \n",
            "=================================================================\n",
            " embedding_9 (Embedding)     (None, None, 128)         2560128   \n",
            "                                                                 \n",
            " conv1d_5 (Conv1D)           (None, None, 128)         82048     \n",
            "                                                                 \n",
            " global_max_pooling1d_5 (Glo  (None, 128)              0         \n",
            " balMaxPooling1D)                                                \n",
            "                                                                 \n",
            " dropout_12 (Dropout)        (None, 128)               0         \n",
            "                                                                 \n",
            " dense_13 (Dense)            (None, 5)                 645       \n",
            "                                                                 \n",
            "=================================================================\n",
            "Total params: 2,642,821\n",
            "Trainable params: 2,642,821\n",
            "Non-trainable params: 0\n",
            "_________________________________________________________________\n",
            "None\n"
          ]
        },
        {
          "data": {
            "image/png": "[encoded data removed]",
            "text/plain": [
              "<Figure size 432x288 with 1 Axes>"
            ]
          },
          "metadata": {},
          "output_type": "display_data"
        },
        {
          "name": "stdout",
          "output_type": "stream",
          "text": [
            "313/313 [==============================] - 4s 13ms/step - loss: 1.0273 - accuracy: 0.6077\n",
            "Int model accuracy: 60.77%\n",
            "==================================================\n",
            "Model number  2\n",
            "Epoch 1/5\n",
            "250/250 [==============================] - 13s 47ms/step - loss: 1.0559 - accuracy: 0.5531 - val_loss: 0.9258 - val_accuracy: 0.5920\n",
            "Epoch 2/5\n",
            "250/250 [==============================] - 11s 46ms/step - loss: 0.8387 - accuracy: 0.6689 - val_loss: 0.8827 - val_accuracy: 0.6080\n",
            "Epoch 3/5\n",
            "250/250 [==============================] - 11s 42ms/step - loss: 0.7078 - accuracy: 0.7445 - val_loss: 0.8873 - val_accuracy: 0.6105\n",
            "Epoch 4/5\n",
            "250/250 [==============================] - 11s 42ms/step - loss: 0.5951 - accuracy: 0.7956 - val_loss: 0.9251 - val_accuracy: 0.6110\n",
            "Epoch 5/5\n",
            "250/250 [==============================] - 11s 42ms/step - loss: 0.4994 - accuracy: 0.8338 - val_loss: 0.9685 - val_accuracy: 0.6065\n",
            "Model: \"sequential_10\"\n",
            "_________________________________________________________________\n",
            " Layer (type)                Output Shape              Param #   \n",
            "=================================================================\n",
            " embedding_10 (Embedding)    (None, None, 128)         2560128   \n",
            "                                                                 \n",
            " conv1d_6 (Conv1D)           (None, None, 128)         82048     \n",
            "                                                                 \n",
            " global_max_pooling1d_6 (Glo  (None, 128)              0         \n",
            " balMaxPooling1D)                                                \n",
            "                                                                 \n",
            " dropout_13 (Dropout)        (None, 128)               0         \n",
            "                                                                 \n",
            " dense_14 (Dense)            (None, 5)                 645       \n",
            "                                                                 \n",
            "=================================================================\n",
            "Total params: 2,642,821\n",
            "Trainable params: 2,642,821\n",
            "Non-trainable params: 0\n",
            "_________________________________________________________________\n",
            "None\n"
          ]
        },
        {
          "data": {
            "image/png": "[encoded data removed]",
            "text/plain": [
              "<Figure size 432x288 with 1 Axes>"
            ]
          },
          "metadata": {},
          "output_type": "display_data"
        },
        {
          "name": "stdout",
          "output_type": "stream",
          "text": [
            "313/313 [==============================] - 4s 13ms/step - loss: 0.9989 - accuracy: 0.6090\n",
            "Int model accuracy: 60.90%\n",
            "==================================================\n",
            "Model number  3\n",
            "Epoch 1/5\n",
            "250/250 [==============================] - 12s 46ms/step - loss: 1.0821 - accuracy: 0.5450 - val_loss: 0.9365 - val_accuracy: 0.5875\n",
            "Epoch 2/5\n",
            "250/250 [==============================] - 11s 42ms/step - loss: 0.8715 - accuracy: 0.6554 - val_loss: 0.8909 - val_accuracy: 0.6055\n",
            "Epoch 3/5\n",
            "250/250 [==============================] - 11s 42ms/step - loss: 0.7582 - accuracy: 0.7172 - val_loss: 0.8867 - val_accuracy: 0.6105\n",
            "Epoch 4/5\n",
            "250/250 [==============================] - 11s 42ms/step - loss: 0.6669 - accuracy: 0.7656 - val_loss: 0.9094 - val_accuracy: 0.6095\n",
            "Epoch 5/5\n",
            "250/250 [==============================] - 11s 42ms/step - loss: 0.5807 - accuracy: 0.8020 - val_loss: 0.9419 - val_accuracy: 0.6075\n",
            "Model: \"sequential_11\"\n",
            "_________________________________________________________________\n",
            " Layer (type)                Output Shape              Param #   \n",
            "=================================================================\n",
            " embedding_11 (Embedding)    (None, None, 128)         2560128   \n",
            "                                                                 \n",
            " conv1d_7 (Conv1D)           (None, None, 128)         82048     \n",
            "                                                                 \n",
            " global_max_pooling1d_7 (Glo  (None, 128)              0         \n",
            " balMaxPooling1D)                                                \n",
            "                                                                 \n",
            " dropout_14 (Dropout)        (None, 128)               0         \n",
            "                                                                 \n",
            " dense_15 (Dense)            (None, 5)                 645       \n",
            "                                                                 \n",
            "=================================================================\n",
            "Total params: 2,642,821\n",
            "Trainable params: 2,642,821\n",
            "Non-trainable params: 0\n",
            "_________________________________________________________________\n",
            "None\n"
          ]
        },
        {
          "data": {
            "image/png": "[encoded data removed]",
            "text/plain": [
              "<Figure size 432x288 with 1 Axes>"
            ]
          },
          "metadata": {},
          "output_type": "display_data"
        },
        {
          "name": "stdout",
          "output_type": "stream",
          "text": [
            "313/313 [==============================] - 4s 13ms/step - loss: 0.9717 - accuracy: 0.6153\n",
            "Int model accuracy: 61.53%\n",
            "==================================================\n",
            "Model number  4\n",
            "Epoch 1/5\n",
            "250/250 [==============================] - 12s 45ms/step - loss: 1.1481 - accuracy: 0.5211 - val_loss: 0.9528 - val_accuracy: 0.5705\n",
            "Epoch 2/5\n",
            "250/250 [==============================] - 11s 44ms/step - loss: 0.9288 - accuracy: 0.6165 - val_loss: 0.9025 - val_accuracy: 0.5935\n",
            "Epoch 3/5\n",
            "250/250 [==============================] - 10s 42ms/step - loss: 0.8463 - accuracy: 0.6719 - val_loss: 0.8828 - val_accuracy: 0.6115\n",
            "Epoch 4/5\n",
            "250/250 [==============================] - 11s 45ms/step - loss: 0.7715 - accuracy: 0.7089 - val_loss: 0.8860 - val_accuracy: 0.6050\n",
            "Epoch 5/5\n",
            "250/250 [==============================] - 11s 43ms/step - loss: 0.7232 - accuracy: 0.7423 - val_loss: 0.8984 - val_accuracy: 0.5975\n",
            "Model: \"sequential_12\"\n",
            "_________________________________________________________________\n",
            " Layer (type)                Output Shape              Param #   \n",
            "=================================================================\n",
            " embedding_12 (Embedding)    (None, None, 128)         2560128   \n",
            "                                                                 \n",
            " conv1d_8 (Conv1D)           (None, None, 128)         82048     \n",
            "                                                                 \n",
            " global_max_pooling1d_8 (Glo  (None, 128)              0         \n",
            " balMaxPooling1D)                                                \n",
            "                                                                 \n",
            " dropout_15 (Dropout)        (None, 128)               0         \n",
            "                                                                 \n",
            " dense_16 (Dense)            (None, 5)                 645       \n",
            "                                                                 \n",
            "=================================================================\n",
            "Total params: 2,642,821\n",
            "Trainable params: 2,642,821\n",
            "Non-trainable params: 0\n",
            "_________________________________________________________________\n",
            "None\n"
          ]
        },
        {
          "data": {
            "image/png": "[encoded data removed]",
            "text/plain": [
              "<Figure size 432x288 with 1 Axes>"
            ]
          },
          "metadata": {},
          "output_type": "display_data"
        },
        {
          "name": "stdout",
          "output_type": "stream",
          "text": [
            "313/313 [==============================] - 4s 13ms/step - loss: 0.9338 - accuracy: 0.6133\n",
            "Int model accuracy: 61.33%\n",
            "==================================================\n"
          ]
        },
        {
          "data": {
            "image/png": "[encoded data removed]",
            "text/plain": [
              "<IPython.core.display.Image object>"
            ]
          },
          "execution_count": 43,
          "metadata": {},
          "output_type": "execute_result"
        }
      ],
      "source": [
        "vocab_size=vocabulary_size\n",
        "\n",
        "list_dropouts = [0.2, 0.4, 0.6, 0.8]\n",
        "\n",
        "lostListDropouts = []\n",
        "accuracyListDropouts = []\n",
        "\n",
        "for i in range(len(list_dropouts)):\n",
        "  print(\"Model number \", i+1)\n",
        "  int_model = tf.keras.Sequential([\n",
        "      layers.Embedding(vocab_size, 64, mask_zero=True),\n",
        "      layers.Conv1D(64, 5, padding=\"valid\", activation=\"relu\", strides=2),\n",
        "      layers.GlobalMaxPooling1D(),\n",
        "      layers.Dropout(list_dropouts[i]),\n",
        "      layers.Dense(num_labels)\n",
        "  ])\n",
        "\n",
        "  int_model.compile(\n",
        "    loss=losses.SparseCategoricalCrossentropy(from_logits=True),\n",
        "    optimizer='RMSprop',\n",
        "    metrics=['accuracy'])\n",
        "  history = int_model.fit(int_train_batch, validation_data=int_validation_batch, epochs=5)\n",
        "  print(int_model.summary())\n",
        "  metrics = history.history # comprend l'historiques des epochs : % accuracy pour chaque epoch, utilisé dans le plot\n",
        "  plt.plot(history.epoch, metrics['loss'], metrics['val_loss'])\n",
        "  plt.legend(['loss', 'val_loss'])\n",
        "  plt.show()\n",
        "  int_loss, int_accuracy = int_model.evaluate(int_test_batch)\n",
        "  lostListDropouts.append(int_loss)\n",
        "  accuracyListDropouts.append(int_accuracy)\n",
        "  print(\"Int model accuracy: {:2.2%}\".format(int_accuracy))\n",
        "  print(\"==================================================\")\n",
        "\n",
        "print('Accuracies: ', accuracyListDropouts)\n",
        "print('Losses: ', lostListDropouts)"
      ]
    },
    {
      "cell_type": "markdown",
      "metadata": {
        "id": "C7JrCdOUaX-L"
      },
      "source": [
        "La meilleur valeur de dropout semble être de 0.2"
      ]
    },
    {
      "cell_type": "markdown",
      "metadata": {
        "id": "D_BQb7X5Uzf0"
      },
      "source": [
        "Deuxième tentative : jouer sur l'optimizer"
      ]
    },
    {
      "cell_type": "code",
      "execution_count": null,
      "metadata": {
        "colab": {
          "background_save": true,
          "base_uri": "https://localhost:8080/",
          "height": 1000
        },
        "id": "aeEPfrsGU38D",
        "outputId": "46794c77-5353-486f-d69a-eb5ab43ec0a5"
      },
      "outputs": [
        {
          "name": "stdout",
          "output_type": "stream",
          "text": [
            "Model number  1\n",
            "Epoch 1/4\n",
            "250/250 [==============================] - 11s 43ms/step - loss: 2.5943 - accuracy: 0.2679 - val_loss: 1.7179 - val_accuracy: 0.3045\n",
            "Epoch 2/4\n",
            "250/250 [==============================] - 11s 43ms/step - loss: 2.2021 - accuracy: 0.2835 - val_loss: 1.6280 - val_accuracy: 0.3075\n",
            "Epoch 3/4\n",
            "250/250 [==============================] - 11s 43ms/step - loss: 2.1765 - accuracy: 0.2894 - val_loss: 1.6013 - val_accuracy: 0.3125\n",
            "Epoch 4/4\n",
            "250/250 [==============================] - 11s 43ms/step - loss: 2.1196 - accuracy: 0.3061 - val_loss: 1.6030 - val_accuracy: 0.3125\n",
            "Model: \"sequential_13\"\n",
            "_________________________________________________________________\n",
            " Layer (type)                Output Shape              Param #   \n",
            "=================================================================\n",
            " embedding_13 (Embedding)    (None, None, 128)         2560128   \n",
            "                                                                 \n",
            " conv1d_9 (Conv1D)           (None, None, 128)         82048     \n",
            "                                                                 \n",
            " global_max_pooling1d_9 (Glo  (None, 128)              0         \n",
            " balMaxPooling1D)                                                \n",
            "                                                                 \n",
            " dropout_16 (Dropout)        (None, 128)               0         \n",
            "                                                                 \n",
            "=================================================================\n",
            "Total params: 2,642,176\n",
            "Trainable params: 2,642,176\n",
            "Non-trainable params: 0\n",
            "_________________________________________________________________\n",
            "Summary of model  1 :  None\n"
          ]
        },
        {
          "data": {
            "image/png": "[encoded data removed]",
            "text/plain": [
              "<Figure size 432x288 with 1 Axes>"
            ]
          },
          "metadata": {},
          "output_type": "display_data"
        },
        {
          "name": "stdout",
          "output_type": "stream",
          "text": [
            "313/313 [==============================] - 4s 13ms/step - loss: 1.6054 - accuracy: 0.3184\n",
            "Int model accuracy: 31.84%\n",
            "==================================================\n",
            "Model number  2\n",
            "Epoch 1/4\n",
            "250/250 [==============================] - 12s 44ms/step - loss: 3.1420 - accuracy: 0.2592 - val_loss: 1.9869 - val_accuracy: 0.3690\n",
            "Epoch 2/4\n",
            "250/250 [==============================] - 12s 49ms/step - loss: 2.7982 - accuracy: 0.2905 - val_loss: 1.8103 - val_accuracy: 0.3835\n",
            "Epoch 3/4\n",
            "250/250 [==============================] - 11s 45ms/step - loss: 2.7581 - accuracy: 0.2977 - val_loss: 1.7688 - val_accuracy: 0.3845\n",
            "Epoch 4/4\n",
            "250/250 [==============================] - 11s 44ms/step - loss: 2.6857 - accuracy: 0.3160 - val_loss: 1.7233 - val_accuracy: 0.3865\n",
            "Model: \"sequential_14\"\n",
            "_________________________________________________________________\n",
            " Layer (type)                Output Shape              Param #   \n",
            "=================================================================\n",
            " embedding_14 (Embedding)    (None, None, 128)         2560128   \n",
            "                                                                 \n",
            " conv1d_10 (Conv1D)          (None, None, 128)         82048     \n",
            "                                                                 \n",
            " global_max_pooling1d_10 (Gl  (None, 128)              0         \n",
            " obalMaxPooling1D)                                               \n",
            "                                                                 \n",
            " dropout_17 (Dropout)        (None, 128)               0         \n",
            "                                                                 \n",
            "=================================================================\n",
            "Total params: 2,642,176\n",
            "Trainable params: 2,642,176\n",
            "Non-trainable params: 0\n",
            "_________________________________________________________________\n",
            "Summary of model  2 :  None\n"
          ]
        },
        {
          "data": {
            "image/png": "[encoded data removed]",
            "text/plain": [
              "<Figure size 432x288 with 1 Axes>"
            ]
          },
          "metadata": {},
          "output_type": "display_data"
        },
        {
          "name": "stdout",
          "output_type": "stream",
          "text": [
            "313/313 [==============================] - 5s 15ms/step - loss: 1.7168 - accuracy: 0.3876\n",
            "Int model accuracy: 38.76%\n",
            "==================================================\n",
            "Model number  3\n",
            "Epoch 1/4\n",
            "250/250 [==============================] - 12s 44ms/step - loss: 3.5865 - accuracy: 0.2674 - val_loss: 2.4253 - val_accuracy: 0.4300\n",
            "Epoch 2/4\n",
            "250/250 [==============================] - 12s 47ms/step - loss: 3.3189 - accuracy: 0.2859 - val_loss: 2.0115 - val_accuracy: 0.4770\n",
            "Epoch 3/4\n",
            "250/250 [==============================] - 11s 44ms/step - loss: 3.3332 - accuracy: 0.2855 - val_loss: 1.9331 - val_accuracy: 0.4435\n",
            "Epoch 4/4\n",
            "250/250 [==============================] - 11s 44ms/step - loss: 3.2999 - accuracy: 0.2976 - val_loss: 1.9145 - val_accuracy: 0.4505\n",
            "Model: \"sequential_15\"\n",
            "_________________________________________________________________\n",
            " Layer (type)                Output Shape              Param #   \n",
            "=================================================================\n",
            " embedding_15 (Embedding)    (None, None, 128)         2560128   \n",
            "                                                                 \n",
            " conv1d_11 (Conv1D)          (None, None, 128)         82048     \n",
            "                                                                 \n",
            " global_max_pooling1d_11 (Gl  (None, 128)              0         \n",
            " obalMaxPooling1D)                                               \n",
            "                                                                 \n",
            " dropout_18 (Dropout)        (None, 128)               0         \n",
            "                                                                 \n",
            "=================================================================\n",
            "Total params: 2,642,176\n",
            "Trainable params: 2,642,176\n",
            "Non-trainable params: 0\n",
            "_________________________________________________________________\n",
            "Summary of model  3 :  None\n"
          ]
        },
        {
          "data": {
            "image/png": "[encoded data removed]",
            "text/plain": [
              "<Figure size 432x288 with 1 Axes>"
            ]
          },
          "metadata": {},
          "output_type": "display_data"
        },
        {
          "name": "stdout",
          "output_type": "stream",
          "text": [
            "313/313 [==============================] - 4s 13ms/step - loss: 1.8929 - accuracy: 0.4689\n",
            "Int model accuracy: 46.89%\n",
            "==================================================\n",
            "Model number  4\n",
            "Epoch 1/4\n",
            "250/250 [==============================] - 12s 44ms/step - loss: 4.1887 - accuracy: 0.2195 - val_loss: 3.2306 - val_accuracy: 0.5140\n",
            "Epoch 2/4\n",
            "250/250 [==============================] - 11s 43ms/step - loss: 4.0745 - accuracy: 0.2276 - val_loss: 2.8302 - val_accuracy: 0.5340\n",
            "Epoch 3/4\n",
            "250/250 [==============================] - 11s 43ms/step - loss: 4.0563 - accuracy: 0.2294 - val_loss: 2.6033 - val_accuracy: 0.5385\n",
            "Epoch 4/4\n",
            "250/250 [==============================] - 11s 43ms/step - loss: 4.0328 - accuracy: 0.2330 - val_loss: 2.5050 - val_accuracy: 0.5440\n",
            "Model: \"sequential_16\"\n",
            "_________________________________________________________________\n",
            " Layer (type)                Output Shape              Param #   \n",
            "=================================================================\n",
            " embedding_16 (Embedding)    (None, None, 128)         2560128   \n",
            "                                                                 \n",
            " conv1d_12 (Conv1D)          (None, None, 128)         82048     \n",
            "                                                                 \n",
            " global_max_pooling1d_12 (Gl  (None, 128)              0         \n",
            " obalMaxPooling1D)                                               \n",
            "                                                                 \n",
            " dropout_19 (Dropout)        (None, 128)               0         \n",
            "                                                                 \n",
            "=================================================================\n",
            "Total params: 2,642,176\n",
            "Trainable params: 2,642,176\n",
            "Non-trainable params: 0\n",
            "_________________________________________________________________\n",
            "Summary of model  4 :  None\n"
          ]
        },
        {
          "data": {
            "image/png": "[encoded data removed]",
            "text/plain": [
              "<Figure size 432x288 with 1 Axes>"
            ]
          },
          "metadata": {},
          "output_type": "display_data"
        },
        {
          "name": "stdout",
          "output_type": "stream",
          "text": [
            "313/313 [==============================] - 4s 13ms/step - loss: 2.5052 - accuracy: 0.5428\n",
            "Int model accuracy: 54.28%\n",
            "==================================================\n"
          ]
        }
      ],
      "source": [
        "vocab_size=vocabulary_size\n",
        "\n",
        "list_optimizers = ['RMSprop', 'Adam', 'Adagrad', 'Ftrl', 'Nadam']\n",
        "\n",
        "lostListOptimizers = []\n",
        "accuracyListOptimizers = []\n",
        "\n",
        "for i in range(len(list_optimizers)):\n",
        "  print(\"Model number \", i+1)\n",
        "  int_model = tf.keras.Sequential([\n",
        "      layers.Embedding(vocab_size, 64, mask_zero=True),\n",
        "      layers.Conv1D(64, 5, padding=\"valid\", activation=\"relu\", strides=2),\n",
        "      layers.GlobalMaxPooling1D(),\n",
        "      layers.Dropout(0.2),\n",
        "      layers.Dense(num_labels)\n",
        "  ])\n",
        "\n",
        "  int_model.compile(\n",
        "    loss=losses.SparseCategoricalCrossentropy(from_logits=True),\n",
        "    optimizer=list_optimizers[i],\n",
        "    metrics=['accuracy'])\n",
        "  history = int_model.fit(int_train_batch, validation_data=int_validation_batch, epochs=5)\n",
        "  print(int_model.summary())\n",
        "  metrics = history.history # comprend l'historiques des epochs : % accuracy pour chaque epoch, utilisé dans le plot\n",
        "  plt.plot(history.epoch, metrics['loss'], metrics['val_loss'])\n",
        "  plt.legend(['loss', 'val_loss'])\n",
        "  plt.show()\n",
        "  int_loss, int_accuracy = int_model.evaluate(int_test_batch)\n",
        "  lostListOptimizers.append(int_loss)\n",
        "  accuracyListOptimizers.append(int_accuracy)\n",
        "  print(\"Int model accuracy: {:2.2%}\".format(int_accuracy))\n",
        "  print(\"==================================================\")\n",
        "\n",
        "print('Accuracies: ', accuracyListOptimizers)\n",
        "print('Losses: ', lostListOptimizers)"
      ]
    },
    {
      "cell_type": "markdown",
      "metadata": {
        "id": "tgCRDsdRsDQb"
      },
      "source": [
        "L'optimizer le plus adapté semble être Adagrad.\n",
        "Pour confirmer l'hypothèse, nous allons lancer un grand nombre d'epochs pour voir si la val_loss diminie au fil des itérations."
      ]
    },
    {
      "cell_type": "code",
      "execution_count": null,
      "metadata": {
        "colab": {
          "base_uri": "https://localhost:8080/",
          "height": 1000
        },
        "id": "yf499mSSnZQc",
        "outputId": "7853db14-f8fd-4c66-eca3-05e65440171c"
      },
      "outputs": [
        {
          "name": "stdout",
          "output_type": "stream",
          "text": [
            "Model number  1\n",
            "Epoch 1/200\n",
            "250/250 [==============================] - 3s 11ms/step - loss: 1.6056 - accuracy: 0.2965 - val_loss: 1.6027 - val_accuracy: 0.4115\n",
            "Epoch 2/200\n",
            "250/250 [==============================] - 2s 10ms/step - loss: 1.5993 - accuracy: 0.3631 - val_loss: 1.5973 - val_accuracy: 0.4185\n",
            "Epoch 3/200\n",
            "250/250 [==============================] - 3s 11ms/step - loss: 1.5937 - accuracy: 0.4005 - val_loss: 1.5924 - val_accuracy: 0.4160\n",
            "Epoch 4/200\n",
            "250/250 [==============================] - 3s 11ms/step - loss: 1.5891 - accuracy: 0.4277 - val_loss: 1.5875 - val_accuracy: 0.5025\n",
            "Epoch 5/200\n",
            "250/250 [==============================] - 3s 10ms/step - loss: 1.5831 - accuracy: 0.4565 - val_loss: 1.5825 - val_accuracy: 0.5015\n",
            "Epoch 6/200\n",
            "250/250 [==============================] - 3s 11ms/step - loss: 1.5783 - accuracy: 0.4728 - val_loss: 1.5775 - val_accuracy: 0.5025\n",
            "Epoch 7/200\n",
            "250/250 [==============================] - 3s 11ms/step - loss: 1.5730 - accuracy: 0.4863 - val_loss: 1.5722 - val_accuracy: 0.5020\n",
            "Epoch 8/200\n",
            "250/250 [==============================] - 3s 11ms/step - loss: 1.5676 - accuracy: 0.4959 - val_loss: 1.5667 - val_accuracy: 0.5005\n",
            "Epoch 9/200\n",
            "250/250 [==============================] - 3s 11ms/step - loss: 1.5614 - accuracy: 0.5048 - val_loss: 1.5607 - val_accuracy: 0.5015\n",
            "Epoch 10/200\n",
            "250/250 [==============================] - 4s 15ms/step - loss: 1.5546 - accuracy: 0.5089 - val_loss: 1.5542 - val_accuracy: 0.5015\n",
            "Epoch 11/200\n",
            "250/250 [==============================] - 3s 10ms/step - loss: 1.5484 - accuracy: 0.5095 - val_loss: 1.5474 - val_accuracy: 0.5005\n",
            "Epoch 12/200\n",
            "250/250 [==============================] - 3s 10ms/step - loss: 1.5413 - accuracy: 0.5096 - val_loss: 1.5400 - val_accuracy: 0.5020\n",
            "Epoch 13/200\n",
            "250/250 [==============================] - 3s 10ms/step - loss: 1.5332 - accuracy: 0.5176 - val_loss: 1.5323 - val_accuracy: 0.5070\n",
            "Epoch 14/200\n",
            "250/250 [==============================] - 3s 11ms/step - loss: 1.5243 - accuracy: 0.5224 - val_loss: 1.5241 - val_accuracy: 0.5075\n",
            "Epoch 15/200\n",
            "250/250 [==============================] - 3s 11ms/step - loss: 1.5159 - accuracy: 0.5182 - val_loss: 1.5153 - val_accuracy: 0.5110\n",
            "Epoch 16/200\n",
            "250/250 [==============================] - 2s 10ms/step - loss: 1.5066 - accuracy: 0.5195 - val_loss: 1.5058 - val_accuracy: 0.5100\n",
            "Epoch 17/200\n",
            "250/250 [==============================] - 3s 10ms/step - loss: 1.4965 - accuracy: 0.5204 - val_loss: 1.4958 - val_accuracy: 0.5125\n",
            "Epoch 18/200\n",
            "250/250 [==============================] - 3s 11ms/step - loss: 1.4860 - accuracy: 0.5213 - val_loss: 1.4851 - val_accuracy: 0.5195\n",
            "Epoch 19/200\n",
            "250/250 [==============================] - 3s 10ms/step - loss: 1.4743 - accuracy: 0.5242 - val_loss: 1.4738 - val_accuracy: 0.5175\n",
            "Epoch 20/200\n",
            "250/250 [==============================] - 2s 10ms/step - loss: 1.4624 - accuracy: 0.5246 - val_loss: 1.4620 - val_accuracy: 0.5210\n",
            "Epoch 21/200\n",
            "250/250 [==============================] - 3s 13ms/step - loss: 1.4496 - accuracy: 0.5270 - val_loss: 1.4494 - val_accuracy: 0.5200\n",
            "Epoch 22/200\n",
            "250/250 [==============================] - 3s 11ms/step - loss: 1.4370 - accuracy: 0.5222 - val_loss: 1.4364 - val_accuracy: 0.5215\n",
            "Epoch 23/200\n",
            "250/250 [==============================] - 3s 11ms/step - loss: 1.4243 - accuracy: 0.5219 - val_loss: 1.4227 - val_accuracy: 0.5210\n",
            "Epoch 24/200\n",
            "250/250 [==============================] - 3s 11ms/step - loss: 1.4093 - accuracy: 0.5240 - val_loss: 1.4086 - val_accuracy: 0.5240\n",
            "Epoch 25/200\n",
            "250/250 [==============================] - 3s 10ms/step - loss: 1.3955 - accuracy: 0.5225 - val_loss: 1.3941 - val_accuracy: 0.5255\n",
            "Epoch 26/200\n",
            "250/250 [==============================] - 3s 11ms/step - loss: 1.3793 - accuracy: 0.5309 - val_loss: 1.3792 - val_accuracy: 0.5265\n",
            "Epoch 27/200\n",
            "250/250 [==============================] - 3s 10ms/step - loss: 1.3647 - accuracy: 0.5261 - val_loss: 1.3641 - val_accuracy: 0.5300\n",
            "Epoch 28/200\n",
            "250/250 [==============================] - 3s 11ms/step - loss: 1.3485 - accuracy: 0.5253 - val_loss: 1.3489 - val_accuracy: 0.5320\n",
            "Epoch 29/200\n",
            "250/250 [==============================] - 3s 11ms/step - loss: 1.3345 - accuracy: 0.5293 - val_loss: 1.3337 - val_accuracy: 0.5340\n",
            "Epoch 30/200\n",
            "250/250 [==============================] - 3s 11ms/step - loss: 1.3187 - accuracy: 0.5240 - val_loss: 1.3185 - val_accuracy: 0.5340\n",
            "Epoch 31/200\n",
            "250/250 [==============================] - 3s 11ms/step - loss: 1.3031 - accuracy: 0.5284 - val_loss: 1.3034 - val_accuracy: 0.5325\n",
            "Epoch 32/200\n",
            "250/250 [==============================] - 3s 11ms/step - loss: 1.2882 - accuracy: 0.5285 - val_loss: 1.2886 - val_accuracy: 0.5335\n",
            "Epoch 33/200\n",
            "250/250 [==============================] - 3s 11ms/step - loss: 1.2733 - accuracy: 0.5343 - val_loss: 1.2740 - val_accuracy: 0.5330\n",
            "Epoch 34/200\n",
            "250/250 [==============================] - 3s 11ms/step - loss: 1.2601 - accuracy: 0.5289 - val_loss: 1.2599 - val_accuracy: 0.5335\n",
            "Epoch 35/200\n",
            "250/250 [==============================] - 3s 10ms/step - loss: 1.2461 - accuracy: 0.5339 - val_loss: 1.2461 - val_accuracy: 0.5340\n",
            "Epoch 36/200\n",
            "250/250 [==============================] - 3s 11ms/step - loss: 1.2317 - accuracy: 0.5310 - val_loss: 1.2327 - val_accuracy: 0.5340\n",
            "Epoch 37/200\n",
            "250/250 [==============================] - 4s 17ms/step - loss: 1.2190 - accuracy: 0.5339 - val_loss: 1.2199 - val_accuracy: 0.5330\n",
            "Epoch 38/200\n",
            "250/250 [==============================] - 3s 13ms/step - loss: 1.2079 - accuracy: 0.5337 - val_loss: 1.2076 - val_accuracy: 0.5350\n",
            "Epoch 39/200\n",
            "250/250 [==============================] - 3s 10ms/step - loss: 1.1941 - accuracy: 0.5368 - val_loss: 1.1958 - val_accuracy: 0.5355\n",
            "Epoch 40/200\n",
            "250/250 [==============================] - 3s 10ms/step - loss: 1.1817 - accuracy: 0.5378 - val_loss: 1.1846 - val_accuracy: 0.5365\n",
            "Epoch 41/200\n",
            "250/250 [==============================] - 3s 11ms/step - loss: 1.1734 - accuracy: 0.5390 - val_loss: 1.1739 - val_accuracy: 0.5390\n",
            "Epoch 42/200\n",
            "250/250 [==============================] - 3s 10ms/step - loss: 1.1611 - accuracy: 0.5353 - val_loss: 1.1637 - val_accuracy: 0.5375\n",
            "Epoch 43/200\n",
            "250/250 [==============================] - 3s 11ms/step - loss: 1.1534 - accuracy: 0.5411 - val_loss: 1.1541 - val_accuracy: 0.5375\n",
            "Epoch 44/200\n",
            "250/250 [==============================] - 3s 11ms/step - loss: 1.1424 - accuracy: 0.5374 - val_loss: 1.1449 - val_accuracy: 0.5365\n",
            "Epoch 45/200\n",
            "250/250 [==============================] - 3s 10ms/step - loss: 1.1351 - accuracy: 0.5421 - val_loss: 1.1363 - val_accuracy: 0.5350\n",
            "Epoch 46/200\n",
            "250/250 [==============================] - 3s 10ms/step - loss: 1.1251 - accuracy: 0.5460 - val_loss: 1.1281 - val_accuracy: 0.5370\n",
            "Epoch 47/200\n",
            "250/250 [==============================] - 3s 10ms/step - loss: 1.1174 - accuracy: 0.5416 - val_loss: 1.1204 - val_accuracy: 0.5370\n",
            "Epoch 48/200\n",
            "250/250 [==============================] - 3s 11ms/step - loss: 1.1108 - accuracy: 0.5470 - val_loss: 1.1131 - val_accuracy: 0.5365\n",
            "Epoch 49/200\n",
            "250/250 [==============================] - 3s 11ms/step - loss: 1.1018 - accuracy: 0.5505 - val_loss: 1.1063 - val_accuracy: 0.5410\n",
            "Epoch 50/200\n",
            "250/250 [==============================] - 3s 10ms/step - loss: 1.0961 - accuracy: 0.5501 - val_loss: 1.0998 - val_accuracy: 0.5400\n",
            "Epoch 51/200\n",
            "250/250 [==============================] - 4s 14ms/step - loss: 1.0908 - accuracy: 0.5459 - val_loss: 1.0937 - val_accuracy: 0.5420\n",
            "Epoch 52/200\n",
            "250/250 [==============================] - 3s 11ms/step - loss: 1.0840 - accuracy: 0.5455 - val_loss: 1.0880 - val_accuracy: 0.5415\n",
            "Epoch 53/200\n",
            "250/250 [==============================] - 3s 10ms/step - loss: 1.0783 - accuracy: 0.5491 - val_loss: 1.0826 - val_accuracy: 0.5435\n",
            "Epoch 54/200\n",
            "250/250 [==============================] - 3s 10ms/step - loss: 1.0724 - accuracy: 0.5541 - val_loss: 1.0775 - val_accuracy: 0.5435\n",
            "Epoch 55/200\n",
            "250/250 [==============================] - 2s 10ms/step - loss: 1.0693 - accuracy: 0.5511 - val_loss: 1.0728 - val_accuracy: 0.5445\n",
            "Epoch 56/200\n",
            "250/250 [==============================] - 3s 11ms/step - loss: 1.0636 - accuracy: 0.5515 - val_loss: 1.0683 - val_accuracy: 0.5445\n",
            "Epoch 57/200\n",
            "250/250 [==============================] - 3s 10ms/step - loss: 1.0593 - accuracy: 0.5533 - val_loss: 1.0641 - val_accuracy: 0.5410\n",
            "Epoch 58/200\n",
            "250/250 [==============================] - 3s 11ms/step - loss: 1.0540 - accuracy: 0.5600 - val_loss: 1.0601 - val_accuracy: 0.5425\n",
            "Epoch 59/200\n",
            "250/250 [==============================] - 3s 11ms/step - loss: 1.0497 - accuracy: 0.5600 - val_loss: 1.0564 - val_accuracy: 0.5470\n",
            "Epoch 60/200\n",
            "250/250 [==============================] - 3s 11ms/step - loss: 1.0445 - accuracy: 0.5562 - val_loss: 1.0528 - val_accuracy: 0.5470\n",
            "Epoch 61/200\n",
            "250/250 [==============================] - 3s 11ms/step - loss: 1.0432 - accuracy: 0.5616 - val_loss: 1.0494 - val_accuracy: 0.5480\n",
            "Epoch 62/200\n",
            "250/250 [==============================] - 3s 10ms/step - loss: 1.0362 - accuracy: 0.5604 - val_loss: 1.0461 - val_accuracy: 0.5470\n",
            "Epoch 63/200\n",
            "250/250 [==============================] - 3s 10ms/step - loss: 1.0343 - accuracy: 0.5601 - val_loss: 1.0431 - val_accuracy: 0.5480\n",
            "Epoch 64/200\n",
            "250/250 [==============================] - 4s 14ms/step - loss: 1.0342 - accuracy: 0.5586 - val_loss: 1.0402 - val_accuracy: 0.5495\n",
            "Epoch 65/200\n",
            "250/250 [==============================] - 3s 11ms/step - loss: 1.0297 - accuracy: 0.5587 - val_loss: 1.0374 - val_accuracy: 0.5500\n",
            "Epoch 66/200\n",
            "250/250 [==============================] - 3s 11ms/step - loss: 1.0258 - accuracy: 0.5616 - val_loss: 1.0348 - val_accuracy: 0.5495\n",
            "Epoch 67/200\n",
            "250/250 [==============================] - 3s 11ms/step - loss: 1.0237 - accuracy: 0.5635 - val_loss: 1.0323 - val_accuracy: 0.5510\n",
            "Epoch 68/200\n",
            "250/250 [==============================] - 3s 10ms/step - loss: 1.0221 - accuracy: 0.5670 - val_loss: 1.0300 - val_accuracy: 0.5515\n",
            "Epoch 69/200\n",
            "250/250 [==============================] - 3s 11ms/step - loss: 1.0180 - accuracy: 0.5665 - val_loss: 1.0277 - val_accuracy: 0.5510\n",
            "Epoch 70/200\n",
            "250/250 [==============================] - 3s 11ms/step - loss: 1.0149 - accuracy: 0.5713 - val_loss: 1.0256 - val_accuracy: 0.5545\n",
            "Epoch 71/200\n",
            "250/250 [==============================] - 3s 10ms/step - loss: 1.0118 - accuracy: 0.5723 - val_loss: 1.0236 - val_accuracy: 0.5550\n",
            "Epoch 72/200\n",
            "250/250 [==============================] - 3s 10ms/step - loss: 1.0103 - accuracy: 0.5711 - val_loss: 1.0216 - val_accuracy: 0.5550\n",
            "Epoch 73/200\n",
            "250/250 [==============================] - 3s 10ms/step - loss: 1.0094 - accuracy: 0.5721 - val_loss: 1.0197 - val_accuracy: 0.5555\n",
            "Epoch 74/200\n",
            "250/250 [==============================] - 3s 11ms/step - loss: 1.0058 - accuracy: 0.5767 - val_loss: 1.0180 - val_accuracy: 0.5555\n",
            "Epoch 75/200\n",
            "250/250 [==============================] - 3s 11ms/step - loss: 1.0018 - accuracy: 0.5809 - val_loss: 1.0162 - val_accuracy: 0.5560\n",
            "Epoch 76/200\n",
            "250/250 [==============================] - 3s 11ms/step - loss: 1.0015 - accuracy: 0.5781 - val_loss: 1.0146 - val_accuracy: 0.5550\n",
            "Epoch 77/200\n",
            "250/250 [==============================] - 3s 12ms/step - loss: 1.0003 - accuracy: 0.5729 - val_loss: 1.0130 - val_accuracy: 0.5545\n",
            "Epoch 78/200\n",
            "250/250 [==============================] - 3s 13ms/step - loss: 0.9988 - accuracy: 0.5739 - val_loss: 1.0115 - val_accuracy: 0.5560\n",
            "Epoch 79/200\n",
            "250/250 [==============================] - 3s 10ms/step - loss: 0.9962 - accuracy: 0.5742 - val_loss: 1.0100 - val_accuracy: 0.5570\n",
            "Epoch 80/200\n",
            "250/250 [==============================] - 3s 11ms/step - loss: 0.9940 - accuracy: 0.5805 - val_loss: 1.0085 - val_accuracy: 0.5580\n",
            "Epoch 81/200\n",
            "250/250 [==============================] - 3s 11ms/step - loss: 0.9923 - accuracy: 0.5778 - val_loss: 1.0072 - val_accuracy: 0.5590\n",
            "Epoch 82/200\n",
            "250/250 [==============================] - 3s 10ms/step - loss: 0.9910 - accuracy: 0.5804 - val_loss: 1.0058 - val_accuracy: 0.5595\n",
            "Epoch 83/200\n",
            "250/250 [==============================] - 3s 10ms/step - loss: 0.9913 - accuracy: 0.5816 - val_loss: 1.0046 - val_accuracy: 0.5595\n",
            "Epoch 84/200\n",
            "250/250 [==============================] - 3s 11ms/step - loss: 0.9886 - accuracy: 0.5798 - val_loss: 1.0033 - val_accuracy: 0.5590\n",
            "Epoch 85/200\n",
            "250/250 [==============================] - 3s 11ms/step - loss: 0.9877 - accuracy: 0.5806 - val_loss: 1.0021 - val_accuracy: 0.5585\n",
            "Epoch 86/200\n",
            "250/250 [==============================] - 3s 10ms/step - loss: 0.9847 - accuracy: 0.5875 - val_loss: 1.0009 - val_accuracy: 0.5600\n",
            "Epoch 87/200\n",
            "250/250 [==============================] - 3s 10ms/step - loss: 0.9855 - accuracy: 0.5814 - val_loss: 0.9998 - val_accuracy: 0.5590\n",
            "Epoch 88/200\n",
            "250/250 [==============================] - 3s 14ms/step - loss: 0.9828 - accuracy: 0.5859 - val_loss: 0.9987 - val_accuracy: 0.5580\n",
            "Epoch 89/200\n",
            "250/250 [==============================] - 4s 16ms/step - loss: 0.9794 - accuracy: 0.5910 - val_loss: 0.9977 - val_accuracy: 0.5590\n",
            "Epoch 90/200\n",
            "250/250 [==============================] - 3s 10ms/step - loss: 0.9813 - accuracy: 0.5869 - val_loss: 0.9966 - val_accuracy: 0.5590\n",
            "Epoch 91/200\n",
            "250/250 [==============================] - 3s 11ms/step - loss: 0.9764 - accuracy: 0.5935 - val_loss: 0.9956 - val_accuracy: 0.5580\n",
            "Epoch 92/200\n",
            "250/250 [==============================] - 3s 10ms/step - loss: 0.9774 - accuracy: 0.5901 - val_loss: 0.9947 - val_accuracy: 0.5575\n",
            "Epoch 93/200\n",
            "250/250 [==============================] - 3s 11ms/step - loss: 0.9750 - accuracy: 0.5872 - val_loss: 0.9937 - val_accuracy: 0.5600\n",
            "Epoch 94/200\n",
            "250/250 [==============================] - 3s 10ms/step - loss: 0.9735 - accuracy: 0.5929 - val_loss: 0.9927 - val_accuracy: 0.5590\n",
            "Epoch 95/200\n",
            "250/250 [==============================] - 3s 10ms/step - loss: 0.9717 - accuracy: 0.5897 - val_loss: 0.9918 - val_accuracy: 0.5600\n",
            "Epoch 96/200\n",
            "250/250 [==============================] - 3s 11ms/step - loss: 0.9713 - accuracy: 0.5969 - val_loss: 0.9910 - val_accuracy: 0.5610\n",
            "Epoch 97/200\n",
            "250/250 [==============================] - 3s 11ms/step - loss: 0.9706 - accuracy: 0.5904 - val_loss: 0.9901 - val_accuracy: 0.5595\n",
            "Epoch 98/200\n",
            "250/250 [==============================] - 3s 11ms/step - loss: 0.9689 - accuracy: 0.6004 - val_loss: 0.9893 - val_accuracy: 0.5595\n",
            "Epoch 99/200\n",
            "250/250 [==============================] - 3s 11ms/step - loss: 0.9658 - accuracy: 0.6043 - val_loss: 0.9884 - val_accuracy: 0.5595\n",
            "Epoch 100/200\n",
            "250/250 [==============================] - 3s 10ms/step - loss: 0.9691 - accuracy: 0.5907 - val_loss: 0.9877 - val_accuracy: 0.5620\n",
            "Epoch 101/200\n",
            "250/250 [==============================] - 3s 11ms/step - loss: 0.9662 - accuracy: 0.5939 - val_loss: 0.9869 - val_accuracy: 0.5640\n",
            "Epoch 102/200\n",
            "250/250 [==============================] - 4s 15ms/step - loss: 0.9624 - accuracy: 0.6016 - val_loss: 0.9861 - val_accuracy: 0.5640\n",
            "Epoch 103/200\n",
            "250/250 [==============================] - 3s 11ms/step - loss: 0.9637 - accuracy: 0.5968 - val_loss: 0.9853 - val_accuracy: 0.5635\n",
            "Epoch 104/200\n",
            "250/250 [==============================] - 3s 11ms/step - loss: 0.9620 - accuracy: 0.6019 - val_loss: 0.9846 - val_accuracy: 0.5635\n",
            "Epoch 105/200\n",
            "250/250 [==============================] - 3s 11ms/step - loss: 0.9610 - accuracy: 0.6009 - val_loss: 0.9838 - val_accuracy: 0.5640\n",
            "Epoch 106/200\n",
            "250/250 [==============================] - 3s 10ms/step - loss: 0.9594 - accuracy: 0.5999 - val_loss: 0.9831 - val_accuracy: 0.5650\n",
            "Epoch 107/200\n",
            "250/250 [==============================] - 3s 10ms/step - loss: 0.9577 - accuracy: 0.6030 - val_loss: 0.9824 - val_accuracy: 0.5670\n",
            "Epoch 108/200\n",
            "250/250 [==============================] - 3s 11ms/step - loss: 0.9559 - accuracy: 0.6060 - val_loss: 0.9817 - val_accuracy: 0.5675\n",
            "Epoch 109/200\n",
            "250/250 [==============================] - 3s 10ms/step - loss: 0.9560 - accuracy: 0.6077 - val_loss: 0.9810 - val_accuracy: 0.5680\n",
            "Epoch 110/200\n",
            "250/250 [==============================] - 3s 10ms/step - loss: 0.9550 - accuracy: 0.6014 - val_loss: 0.9803 - val_accuracy: 0.5675\n",
            "Epoch 111/200\n",
            "250/250 [==============================] - 3s 11ms/step - loss: 0.9549 - accuracy: 0.6047 - val_loss: 0.9797 - val_accuracy: 0.5705\n",
            "Epoch 112/200\n",
            "250/250 [==============================] - 3s 11ms/step - loss: 0.9534 - accuracy: 0.6043 - val_loss: 0.9790 - val_accuracy: 0.5710\n",
            "Epoch 113/200\n",
            "250/250 [==============================] - 3s 11ms/step - loss: 0.9545 - accuracy: 0.6045 - val_loss: 0.9784 - val_accuracy: 0.5710\n",
            "Epoch 114/200\n",
            "250/250 [==============================] - 3s 10ms/step - loss: 0.9497 - accuracy: 0.6053 - val_loss: 0.9778 - val_accuracy: 0.5705\n",
            "Epoch 115/200\n",
            "250/250 [==============================] - 3s 11ms/step - loss: 0.9507 - accuracy: 0.6087 - val_loss: 0.9772 - val_accuracy: 0.5705\n",
            "Epoch 116/200\n",
            "250/250 [==============================] - 3s 10ms/step - loss: 0.9471 - accuracy: 0.6116 - val_loss: 0.9766 - val_accuracy: 0.5700\n",
            "Epoch 117/200\n",
            "250/250 [==============================] - 3s 10ms/step - loss: 0.9478 - accuracy: 0.6134 - val_loss: 0.9759 - val_accuracy: 0.5715\n",
            "Epoch 118/200\n",
            "250/250 [==============================] - 3s 11ms/step - loss: 0.9480 - accuracy: 0.6129 - val_loss: 0.9753 - val_accuracy: 0.5715\n",
            "Epoch 119/200\n",
            "250/250 [==============================] - 3s 10ms/step - loss: 0.9471 - accuracy: 0.6143 - val_loss: 0.9748 - val_accuracy: 0.5710\n",
            "Epoch 120/200\n",
            "250/250 [==============================] - 3s 11ms/step - loss: 0.9445 - accuracy: 0.6129 - val_loss: 0.9742 - val_accuracy: 0.5705\n",
            "Epoch 121/200\n",
            "250/250 [==============================] - 3s 11ms/step - loss: 0.9429 - accuracy: 0.6184 - val_loss: 0.9736 - val_accuracy: 0.5725\n",
            "Epoch 122/200\n",
            "250/250 [==============================] - 3s 10ms/step - loss: 0.9432 - accuracy: 0.6165 - val_loss: 0.9730 - val_accuracy: 0.5725\n",
            "Epoch 123/200\n",
            "250/250 [==============================] - 3s 11ms/step - loss: 0.9409 - accuracy: 0.6191 - val_loss: 0.9724 - val_accuracy: 0.5720\n",
            "Epoch 124/200\n",
            "250/250 [==============================] - 3s 11ms/step - loss: 0.9407 - accuracy: 0.6205 - val_loss: 0.9719 - val_accuracy: 0.5725\n",
            "Epoch 125/200\n",
            "250/250 [==============================] - 3s 10ms/step - loss: 0.9414 - accuracy: 0.6168 - val_loss: 0.9713 - val_accuracy: 0.5725\n",
            "Epoch 126/200\n",
            "250/250 [==============================] - 3s 13ms/step - loss: 0.9386 - accuracy: 0.6229 - val_loss: 0.9708 - val_accuracy: 0.5720\n",
            "Epoch 127/200\n",
            "250/250 [==============================] - 3s 12ms/step - loss: 0.9372 - accuracy: 0.6183 - val_loss: 0.9703 - val_accuracy: 0.5725\n",
            "Epoch 128/200\n",
            "250/250 [==============================] - 3s 11ms/step - loss: 0.9364 - accuracy: 0.6225 - val_loss: 0.9698 - val_accuracy: 0.5725\n",
            "Epoch 129/200\n",
            "250/250 [==============================] - 3s 11ms/step - loss: 0.9373 - accuracy: 0.6223 - val_loss: 0.9693 - val_accuracy: 0.5730\n",
            "Epoch 130/200\n",
            "250/250 [==============================] - 3s 11ms/step - loss: 0.9358 - accuracy: 0.6223 - val_loss: 0.9688 - val_accuracy: 0.5730\n",
            "Epoch 131/200\n",
            "250/250 [==============================] - 3s 10ms/step - loss: 0.9356 - accuracy: 0.6251 - val_loss: 0.9683 - val_accuracy: 0.5720\n",
            "Epoch 132/200\n",
            "250/250 [==============================] - 3s 11ms/step - loss: 0.9344 - accuracy: 0.6219 - val_loss: 0.9678 - val_accuracy: 0.5730\n",
            "Epoch 133/200\n",
            "250/250 [==============================] - 3s 11ms/step - loss: 0.9320 - accuracy: 0.6302 - val_loss: 0.9673 - val_accuracy: 0.5730\n",
            "Epoch 134/200\n",
            "250/250 [==============================] - 3s 10ms/step - loss: 0.9300 - accuracy: 0.6284 - val_loss: 0.9668 - val_accuracy: 0.5720\n",
            "Epoch 135/200\n",
            "250/250 [==============================] - 3s 11ms/step - loss: 0.9283 - accuracy: 0.6325 - val_loss: 0.9663 - val_accuracy: 0.5720\n",
            "Epoch 136/200\n",
            "250/250 [==============================] - 3s 10ms/step - loss: 0.9295 - accuracy: 0.6269 - val_loss: 0.9658 - val_accuracy: 0.5725\n",
            "Epoch 137/200\n",
            "250/250 [==============================] - 3s 11ms/step - loss: 0.9292 - accuracy: 0.6265 - val_loss: 0.9653 - val_accuracy: 0.5735\n",
            "Epoch 138/200\n",
            "250/250 [==============================] - 3s 11ms/step - loss: 0.9275 - accuracy: 0.6305 - val_loss: 0.9648 - val_accuracy: 0.5730\n",
            "Epoch 139/200\n",
            "250/250 [==============================] - 4s 15ms/step - loss: 0.9289 - accuracy: 0.6283 - val_loss: 0.9644 - val_accuracy: 0.5725\n",
            "Epoch 140/200\n",
            "250/250 [==============================] - 3s 10ms/step - loss: 0.9265 - accuracy: 0.6265 - val_loss: 0.9640 - val_accuracy: 0.5730\n",
            "Epoch 141/200\n",
            "250/250 [==============================] - 3s 11ms/step - loss: 0.9270 - accuracy: 0.6324 - val_loss: 0.9635 - val_accuracy: 0.5735\n",
            "Epoch 142/200\n",
            "250/250 [==============================] - 3s 10ms/step - loss: 0.9254 - accuracy: 0.6309 - val_loss: 0.9630 - val_accuracy: 0.5745\n",
            "Epoch 143/200\n",
            "250/250 [==============================] - 3s 11ms/step - loss: 0.9245 - accuracy: 0.6305 - val_loss: 0.9626 - val_accuracy: 0.5745\n",
            "Epoch 144/200\n",
            "250/250 [==============================] - 3s 11ms/step - loss: 0.9246 - accuracy: 0.6311 - val_loss: 0.9622 - val_accuracy: 0.5750\n",
            "Epoch 145/200\n",
            "250/250 [==============================] - 3s 11ms/step - loss: 0.9232 - accuracy: 0.6348 - val_loss: 0.9617 - val_accuracy: 0.5750\n",
            "Epoch 146/200\n",
            "250/250 [==============================] - 3s 10ms/step - loss: 0.9226 - accuracy: 0.6356 - val_loss: 0.9613 - val_accuracy: 0.5755\n",
            "Epoch 147/200\n",
            "250/250 [==============================] - 3s 10ms/step - loss: 0.9193 - accuracy: 0.6396 - val_loss: 0.9608 - val_accuracy: 0.5760\n",
            "Epoch 148/200\n",
            "250/250 [==============================] - 3s 11ms/step - loss: 0.9193 - accuracy: 0.6390 - val_loss: 0.9604 - val_accuracy: 0.5760\n",
            "Epoch 149/200\n",
            "250/250 [==============================] - 3s 11ms/step - loss: 0.9196 - accuracy: 0.6370 - val_loss: 0.9599 - val_accuracy: 0.5770\n",
            "Epoch 150/200\n",
            "250/250 [==============================] - 3s 10ms/step - loss: 0.9170 - accuracy: 0.6366 - val_loss: 0.9595 - val_accuracy: 0.5780\n",
            "Epoch 151/200\n",
            "250/250 [==============================] - 3s 11ms/step - loss: 0.9189 - accuracy: 0.6350 - val_loss: 0.9591 - val_accuracy: 0.5780\n",
            "Epoch 152/200\n",
            "250/250 [==============================] - 3s 13ms/step - loss: 0.9167 - accuracy: 0.6390 - val_loss: 0.9587 - val_accuracy: 0.5780\n",
            "Epoch 153/200\n",
            "250/250 [==============================] - 3s 11ms/step - loss: 0.9136 - accuracy: 0.6446 - val_loss: 0.9582 - val_accuracy: 0.5770\n",
            "Epoch 154/200\n",
            "250/250 [==============================] - 3s 11ms/step - loss: 0.9134 - accuracy: 0.6423 - val_loss: 0.9578 - val_accuracy: 0.5765\n",
            "Epoch 155/200\n",
            "250/250 [==============================] - 3s 10ms/step - loss: 0.9111 - accuracy: 0.6455 - val_loss: 0.9574 - val_accuracy: 0.5760\n",
            "Epoch 156/200\n",
            "250/250 [==============================] - 3s 11ms/step - loss: 0.9147 - accuracy: 0.6446 - val_loss: 0.9570 - val_accuracy: 0.5755\n",
            "Epoch 157/200\n",
            "250/250 [==============================] - 3s 11ms/step - loss: 0.9107 - accuracy: 0.6375 - val_loss: 0.9566 - val_accuracy: 0.5745\n",
            "Epoch 158/200\n",
            "250/250 [==============================] - 3s 11ms/step - loss: 0.9118 - accuracy: 0.6399 - val_loss: 0.9562 - val_accuracy: 0.5745\n",
            "Epoch 159/200\n",
            "250/250 [==============================] - 3s 10ms/step - loss: 0.9104 - accuracy: 0.6478 - val_loss: 0.9558 - val_accuracy: 0.5740\n",
            "Epoch 160/200\n",
            "250/250 [==============================] - 3s 11ms/step - loss: 0.9092 - accuracy: 0.6438 - val_loss: 0.9554 - val_accuracy: 0.5740\n",
            "Epoch 161/200\n",
            "250/250 [==============================] - 3s 11ms/step - loss: 0.9081 - accuracy: 0.6486 - val_loss: 0.9550 - val_accuracy: 0.5755\n",
            "Epoch 162/200\n",
            "250/250 [==============================] - 3s 11ms/step - loss: 0.9101 - accuracy: 0.6495 - val_loss: 0.9546 - val_accuracy: 0.5755\n",
            "Epoch 163/200\n",
            "250/250 [==============================] - 3s 11ms/step - loss: 0.9063 - accuracy: 0.6525 - val_loss: 0.9542 - val_accuracy: 0.5750\n",
            "Epoch 164/200\n",
            "250/250 [==============================] - 3s 11ms/step - loss: 0.9053 - accuracy: 0.6429 - val_loss: 0.9538 - val_accuracy: 0.5755\n",
            "Epoch 165/200\n",
            "250/250 [==============================] - 3s 11ms/step - loss: 0.9053 - accuracy: 0.6470 - val_loss: 0.9535 - val_accuracy: 0.5755\n",
            "Epoch 166/200\n",
            "250/250 [==============================] - 3s 10ms/step - loss: 0.9050 - accuracy: 0.6466 - val_loss: 0.9531 - val_accuracy: 0.5760\n",
            "Epoch 167/200\n",
            "250/250 [==============================] - 3s 10ms/step - loss: 0.9041 - accuracy: 0.6524 - val_loss: 0.9527 - val_accuracy: 0.5765\n",
            "Epoch 168/200\n",
            "250/250 [==============================] - 3s 11ms/step - loss: 0.9042 - accuracy: 0.6536 - val_loss: 0.9523 - val_accuracy: 0.5775\n",
            "Epoch 169/200\n",
            "250/250 [==============================] - 3s 10ms/step - loss: 0.9022 - accuracy: 0.6514 - val_loss: 0.9520 - val_accuracy: 0.5775\n",
            "Epoch 170/200\n",
            "250/250 [==============================] - 3s 10ms/step - loss: 0.9029 - accuracy: 0.6486 - val_loss: 0.9516 - val_accuracy: 0.5785\n",
            "Epoch 171/200\n",
            "250/250 [==============================] - 3s 10ms/step - loss: 0.8996 - accuracy: 0.6566 - val_loss: 0.9512 - val_accuracy: 0.5795\n",
            "Epoch 172/200\n",
            "250/250 [==============================] - 3s 11ms/step - loss: 0.9014 - accuracy: 0.6496 - val_loss: 0.9508 - val_accuracy: 0.5800\n",
            "Epoch 173/200\n",
            "250/250 [==============================] - 3s 10ms/step - loss: 0.9003 - accuracy: 0.6562 - val_loss: 0.9505 - val_accuracy: 0.5805\n",
            "Epoch 174/200\n",
            "250/250 [==============================] - 3s 11ms/step - loss: 0.9002 - accuracy: 0.6529 - val_loss: 0.9501 - val_accuracy: 0.5805\n",
            "Epoch 175/200\n",
            "250/250 [==============================] - 3s 11ms/step - loss: 0.8974 - accuracy: 0.6596 - val_loss: 0.9498 - val_accuracy: 0.5805\n",
            "Epoch 176/200\n",
            "250/250 [==============================] - 3s 10ms/step - loss: 0.8981 - accuracy: 0.6560 - val_loss: 0.9494 - val_accuracy: 0.5810\n",
            "Epoch 177/200\n",
            "250/250 [==============================] - 3s 10ms/step - loss: 0.8974 - accuracy: 0.6578 - val_loss: 0.9491 - val_accuracy: 0.5815\n",
            "Epoch 178/200\n",
            "250/250 [==============================] - 3s 10ms/step - loss: 0.8937 - accuracy: 0.6587 - val_loss: 0.9487 - val_accuracy: 0.5815\n",
            "Epoch 179/200\n",
            "250/250 [==============================] - 4s 16ms/step - loss: 0.8939 - accuracy: 0.6575 - val_loss: 0.9484 - val_accuracy: 0.5805\n",
            "Epoch 180/200\n",
            "250/250 [==============================] - 3s 11ms/step - loss: 0.8929 - accuracy: 0.6614 - val_loss: 0.9481 - val_accuracy: 0.5820\n",
            "Epoch 181/200\n",
            "250/250 [==============================] - 3s 11ms/step - loss: 0.8918 - accuracy: 0.6611 - val_loss: 0.9477 - val_accuracy: 0.5820\n",
            "Epoch 182/200\n",
            "250/250 [==============================] - 3s 11ms/step - loss: 0.8905 - accuracy: 0.6612 - val_loss: 0.9474 - val_accuracy: 0.5820\n",
            "Epoch 183/200\n",
            "250/250 [==============================] - 3s 10ms/step - loss: 0.8919 - accuracy: 0.6607 - val_loss: 0.9470 - val_accuracy: 0.5815\n",
            "Epoch 184/200\n",
            "250/250 [==============================] - 3s 11ms/step - loss: 0.8898 - accuracy: 0.6654 - val_loss: 0.9467 - val_accuracy: 0.5820\n",
            "Epoch 185/200\n",
            "250/250 [==============================] - 3s 10ms/step - loss: 0.8891 - accuracy: 0.6601 - val_loss: 0.9464 - val_accuracy: 0.5825\n",
            "Epoch 186/200\n",
            "250/250 [==============================] - 3s 12ms/step - loss: 0.8899 - accuracy: 0.6645 - val_loss: 0.9460 - val_accuracy: 0.5820\n",
            "Epoch 187/200\n",
            "250/250 [==============================] - 3s 11ms/step - loss: 0.8906 - accuracy: 0.6568 - val_loss: 0.9457 - val_accuracy: 0.5815\n",
            "Epoch 188/200\n",
            "250/250 [==============================] - 3s 12ms/step - loss: 0.8857 - accuracy: 0.6643 - val_loss: 0.9454 - val_accuracy: 0.5810\n",
            "Epoch 189/200\n",
            "250/250 [==============================] - 3s 12ms/step - loss: 0.8867 - accuracy: 0.6639 - val_loss: 0.9450 - val_accuracy: 0.5815\n",
            "Epoch 190/200\n",
            "250/250 [==============================] - 3s 11ms/step - loss: 0.8852 - accuracy: 0.6683 - val_loss: 0.9447 - val_accuracy: 0.5820\n",
            "Epoch 191/200\n",
            "250/250 [==============================] - 3s 12ms/step - loss: 0.8859 - accuracy: 0.6666 - val_loss: 0.9444 - val_accuracy: 0.5835\n",
            "Epoch 192/200\n",
            "250/250 [==============================] - 3s 14ms/step - loss: 0.8830 - accuracy: 0.6704 - val_loss: 0.9440 - val_accuracy: 0.5835\n",
            "Epoch 193/200\n",
            "250/250 [==============================] - 3s 12ms/step - loss: 0.8812 - accuracy: 0.6680 - val_loss: 0.9437 - val_accuracy: 0.5840\n",
            "Epoch 194/200\n",
            "250/250 [==============================] - 3s 12ms/step - loss: 0.8805 - accuracy: 0.6724 - val_loss: 0.9434 - val_accuracy: 0.5835\n",
            "Epoch 195/200\n",
            "250/250 [==============================] - 3s 11ms/step - loss: 0.8823 - accuracy: 0.6710 - val_loss: 0.9431 - val_accuracy: 0.5835\n",
            "Epoch 196/200\n",
            "250/250 [==============================] - 3s 11ms/step - loss: 0.8822 - accuracy: 0.6622 - val_loss: 0.9427 - val_accuracy: 0.5835\n",
            "Epoch 197/200\n",
            "250/250 [==============================] - 3s 12ms/step - loss: 0.8815 - accuracy: 0.6653 - val_loss: 0.9424 - val_accuracy: 0.5840\n",
            "Epoch 198/200\n",
            "250/250 [==============================] - 3s 11ms/step - loss: 0.8792 - accuracy: 0.6714 - val_loss: 0.9421 - val_accuracy: 0.5835\n",
            "Epoch 199/200\n",
            "250/250 [==============================] - 3s 12ms/step - loss: 0.8774 - accuracy: 0.6708 - val_loss: 0.9418 - val_accuracy: 0.5830\n",
            "Epoch 200/200\n",
            "250/250 [==============================] - 3s 11ms/step - loss: 0.8780 - accuracy: 0.6737 - val_loss: 0.9416 - val_accuracy: 0.5835\n",
            "Model: \"sequential_54\"\n",
            "_________________________________________________________________\n",
            " Layer (type)                Output Shape              Param #   \n",
            "=================================================================\n",
            " embedding_54 (Embedding)    (None, None, 64)          1280000   \n",
            "                                                                 \n",
            " conv1d_54 (Conv1D)          (None, None, 64)          20544     \n",
            "                                                                 \n",
            " global_max_pooling1d_54 (Gl  (None, 64)               0         \n",
            " obalMaxPooling1D)                                               \n",
            "                                                                 \n",
            " dropout_47 (Dropout)        (None, 64)                0         \n",
            "                                                                 \n",
            " dense_51 (Dense)            (None, 5)                 325       \n",
            "                                                                 \n",
            "=================================================================\n",
            "Total params: 1,300,869\n",
            "Trainable params: 1,300,869\n",
            "Non-trainable params: 0\n",
            "_________________________________________________________________\n",
            "None\n"
          ]
        },
        {
          "data": {
            "image/png": "[encoded data removed]",
            "text/plain": [
              "<Figure size 432x288 with 1 Axes>"
            ]
          },
          "metadata": {},
          "output_type": "display_data"
        },
        {
          "name": "stdout",
          "output_type": "stream",
          "text": [
            "313/313 [==============================] - 2s 8ms/step - loss: 0.9471 - accuracy: 0.5828\n",
            "Int model accuracy: 58.28%\n",
            "==================================================\n",
            "Accuracies:  [0.5828086137771606]\n",
            "Losses:  [0.9470803737640381]\n"
          ]
        }
      ],
      "source": [
        "vocab_size=vocabulary_size\n",
        "\n",
        "lostList = []\n",
        "accuracyList = []\n",
        "\n",
        "for i in range(len(list_optimizers)):\n",
        "  print(\"Model number \", i+1)\n",
        "  int_model = tf.keras.Sequential([\n",
        "      layers.Embedding(vocab_size, 64, mask_zero=True),\n",
        "      layers.Conv1D(64, 5, padding=\"valid\", activation=\"relu\", strides=2),\n",
        "      layers.GlobalMaxPooling1D(),\n",
        "      layers.Dropout(0.2),\n",
        "      layers.Dense(num_labels)\n",
        "  ])\n",
        "\n",
        "  int_model.compile(\n",
        "    loss=losses.SparseCategoricalCrossentropy(from_logits=True),\n",
        "    optimizer='Adagrad',\n",
        "    metrics=['accuracy'])\n",
        "  history = int_model.fit(int_train_batch, validation_data=int_validation_batch, epochs=200)\n",
        "  print(int_model.summary())\n",
        "  metrics = history.history # comprend l'historiques des epochs : % accuracy pour chaque epoch, utilisé dans le plot\n",
        "  plt.plot(history.epoch, metrics['loss'], metrics['val_loss'])\n",
        "  plt.legend(['loss', 'val_loss'])\n",
        "  plt.show()\n",
        "  int_loss, int_accuracy = int_model.evaluate(int_test_batch)\n",
        "  lostList.append(int_loss)\n",
        "  accuracyList.append(int_accuracy)\n",
        "  print(\"Int model accuracy: {:2.2%}\".format(int_accuracy))\n",
        "  print(\"==================================================\")\n",
        "  break;\n",
        "\n",
        "print('Accuracies: ', accuracyList)\n",
        "print('Losses: ', lostList)"
      ]
    },
    {
      "cell_type": "markdown",
      "metadata": {
        "id": "WIzzuVdCsRlC"
      },
      "source": [
        "  Pour un grand nombre d'epochs avec Adagrad, les courbes de loss et de val_loss obtenues semblent cohérentes (elles diminuent) mais la valeur des pertes reste trop élevée.\n",
        "  Nous choisissons donc d'utiliser l'optimizer RMSprop.\n",
        "\n",
        "  Cette fois, nous jouerons sur le nombre de couches"
      ]
    },
    {
      "cell_type": "code",
      "execution_count": null,
      "metadata": {
        "colab": {
          "base_uri": "https://localhost:8080/",
          "height": 994
        },
        "id": "dAwhBQ7btFLD",
        "outputId": "2e1c731f-8c17-4be4-dfc7-440666f06edf"
      },
      "outputs": [
        {
          "name": "stdout",
          "output_type": "stream",
          "text": [
            "Epoch 1/5\n",
            "250/250 [==============================] - 6s 18ms/step - loss: 1.2124 - accuracy: 0.4207 - val_loss: 0.9841 - val_accuracy: 0.5595\n",
            "Epoch 2/5\n",
            "250/250 [==============================] - 4s 18ms/step - loss: 0.8665 - accuracy: 0.6299 - val_loss: 0.9445 - val_accuracy: 0.5865\n",
            "Epoch 3/5\n",
            "250/250 [==============================] - 5s 18ms/step - loss: 0.7197 - accuracy: 0.7089 - val_loss: 0.9982 - val_accuracy: 0.5785\n",
            "Epoch 4/5\n",
            "250/250 [==============================] - 5s 18ms/step - loss: 0.5894 - accuracy: 0.7692 - val_loss: 1.1134 - val_accuracy: 0.5765\n",
            "Epoch 5/5\n",
            "250/250 [==============================] - 5s 18ms/step - loss: 0.4784 - accuracy: 0.8273 - val_loss: 1.2418 - val_accuracy: 0.5825\n"
          ]
        },
        {
          "data": {
            "image/png": "[encoded data removed]",
            "text/plain": [
              "<Figure size 432x288 with 1 Axes>"
            ]
          },
          "metadata": {},
          "output_type": "display_data"
        },
        {
          "name": "stdout",
          "output_type": "stream",
          "text": [
            "313/313 [==============================] - 2s 8ms/step - loss: 0.9471 - accuracy: 0.5828\n",
            "Model: \"sequential_56\"\n",
            "_________________________________________________________________\n",
            " Layer (type)                Output Shape              Param #   \n",
            "=================================================================\n",
            " embedding_56 (Embedding)    (None, None, 64)          1280064   \n",
            "                                                                 \n",
            " conv1d_56 (Conv1D)          (None, None, 64)          20544     \n",
            "                                                                 \n",
            " global_max_pooling1d_56 (Gl  (None, 64)               0         \n",
            " obalMaxPooling1D)                                               \n",
            "                                                                 \n",
            " dense_58 (Dense)            (None, 5)                 325       \n",
            "                                                                 \n",
            " dense_59 (Dense)            (None, 5)                 30        \n",
            "                                                                 \n",
            " dense_60 (Dense)            (None, 5)                 30        \n",
            "                                                                 \n",
            " dense_61 (Dense)            (None, 5)                 30        \n",
            "                                                                 \n",
            " dense_62 (Dense)            (None, 5)                 30        \n",
            "                                                                 \n",
            " dense_63 (Dense)            (None, 5)                 30        \n",
            "                                                                 \n",
            "=================================================================\n",
            "Total params: 1,301,083\n",
            "Trainable params: 1,301,083\n",
            "Non-trainable params: 0\n",
            "_________________________________________________________________\n",
            "None\n",
            "Accuracies:  [0.5828086137771606]\n",
            "Losses:  [0.9470805525779724]\n"
          ]
        }
      ],
      "source": [
        "vocab_size=vocabulary_size + 1\n",
        "\n",
        "lostList = []\n",
        "accuracyList = []\n",
        "\n",
        "model3 = tf.keras.Sequential([\n",
        "    layers.Embedding(vocab_size, 64, mask_zero=True),\n",
        "    layers.Conv1D(64, 5, padding=\"causal\", activation=\"relu\", strides=2),\n",
        "    layers.GlobalMaxPooling1D(),\n",
        "    layers.Dense(nb_labels),\n",
        "    layers.Dense(nb_labels),\n",
        "    layers.Dense(nb_labels),\n",
        "    layers.Dense(nb_labels),\n",
        "    layers.Dense(nb_labels),\n",
        "    layers.Dense(nb_labels)\n",
        "  ])\n",
        "\n",
        "model3.compile(\n",
        "    loss=losses.SparseCategoricalCrossentropy(from_logits=True),\n",
        "    optimizer='RMSprop',\n",
        "    metrics=['accuracy'])\n",
        "\n",
        "history3 = model3.fit(int_train_batch, validation_data=int_validation_batch, epochs=5)\n",
        "metrics = history3.history # comprend l'historiques des epochs : % accuracy pour chaque epoch, utilisé dans le plot\n",
        "plt.plot(history3.epoch, metrics['loss'], metrics['val_loss'])\n",
        "plt.legend(['loss', 'val_loss'])\n",
        "plt.show()\n",
        "int_loss, int_accuracy = int_model.evaluate(int_test_batch)\n",
        "lostList.append(int_loss)\n",
        "accuracyList.append(int_accuracy)\n",
        "print(model3.summary())\n",
        "\n",
        "\n",
        "print('Accuracies: ', accuracyList)\n",
        "print('Losses: ', lostList)"
      ]
    },
    {
      "cell_type": "code",
      "execution_count": null,
      "metadata": {
        "colab": {
          "base_uri": "https://localhost:8080/",
          "height": 175
        },
        "id": "KlCqy3Qny_kD",
        "outputId": "83e11b8d-79fb-4496-b662-d8505ad7f309"
      },
      "outputs": [
        {
          "data": {
            "text/html": [
              "\n",
              "  <div id=\"df-37eae126-8e67-415e-bad6-e3456e7b59f5\">\n",
              "    <div class=\"colab-df-container\">\n",
              "      <div>\n",
              "<style scoped>\n",
              "    .dataframe tbody tr th:only-of-type {\n",
              "        vertical-align: middle;\n",
              "    }\n",
              "\n",
              "    .dataframe tbody tr th {\n",
              "        vertical-align: top;\n",
              "    }\n",
              "\n",
              "    .dataframe thead th {\n",
              "        text-align: right;\n",
              "    }\n",
              "</style>\n",
              "<table border=\"1\" class=\"dataframe\">\n",
              "  <thead>\n",
              "    <tr style=\"text-align: right;\">\n",
              "      <th></th>\n",
              "      <th>AccuracyDropouts</th>\n",
              "      <th>LossesDropouts</th>\n",
              "      <th>AccuracyOptimizers</th>\n",
              "      <th>LossesOptimizers</th>\n",
              "    </tr>\n",
              "  </thead>\n",
              "  <tbody>\n",
              "    <tr>\n",
              "      <th>0</th>\n",
              "      <td>0.608696</td>\n",
              "      <td>0.945830</td>\n",
              "      <td>0.609395</td>\n",
              "      <td>0.946230</td>\n",
              "    </tr>\n",
              "    <tr>\n",
              "      <th>1</th>\n",
              "      <td>0.614193</td>\n",
              "      <td>0.928212</td>\n",
              "      <td>0.601699</td>\n",
              "      <td>1.103255</td>\n",
              "    </tr>\n",
              "    <tr>\n",
              "      <th>2</th>\n",
              "      <td>0.612894</td>\n",
              "      <td>0.919599</td>\n",
              "      <td>0.510345</td>\n",
              "      <td>1.586806</td>\n",
              "    </tr>\n",
              "    <tr>\n",
              "      <th>3</th>\n",
              "      <td>0.608596</td>\n",
              "      <td>0.919751</td>\n",
              "      <td>0.200000</td>\n",
              "      <td>1.609439</td>\n",
              "    </tr>\n",
              "  </tbody>\n",
              "</table>\n",
              "</div>\n",
              "      <button class=\"colab-df-convert\" onclick=\"convertToInteractive('df-37eae126-8e67-415e-bad6-e3456e7b59f5')\"\n",
              "              title=\"Convert this dataframe to an interactive table.\"\n",
              "              style=\"display:none;\">\n",
              "        \n",
              "  <svg xmlns=\"http://www.w3.org/2000/svg\" height=\"24px\"viewBox=\"0 0 24 24\"\n",
              "       width=\"24px\">\n",
              "    <path d=\"M0 0h24v24H0V0z\" fill=\"none\"/>\n",
              "    <path d=\"M18.56 5.44l.94 2.06.94-2.06 2.06-.94-2.06-.94-.94-2.06-.94 2.06-2.06.94zm-11 1L8.5 8.5l.94-2.06 2.06-.94-2.06-.94L8.5 2.5l-.94 2.06-2.06.94zm10 10l.94 2.06.94-2.06 2.06-.94-2.06-.94-.94-2.06-.94 2.06-2.06.94z\"/><path d=\"M17.41 7.96l-1.37-1.37c-.4-.4-.92-.59-1.43-.59-.52 0-1.04.2-1.43.59L10.3 9.45l-7.72 7.72c-.78.78-.78 2.05 0 2.83L4 21.41c.39.39.9.59 1.41.59.51 0 1.02-.2 1.41-.59l7.78-7.78 2.81-2.81c.8-.78.8-2.07 0-2.86zM5.41 20L4 18.59l7.72-7.72 1.47 1.35L5.41 20z\"/>\n",
              "  </svg>\n",
              "      </button>\n",
              "      \n",
              "  <style>\n",
              "    .colab-df-container {\n",
              "      display:flex;\n",
              "      flex-wrap:wrap;\n",
              "      gap: 12px;\n",
              "    }\n",
              "\n",
              "    .colab-df-convert {\n",
              "      background-color: #E8F0FE;\n",
              "      border: none;\n",
              "      border-radius: 50%;\n",
              "      cursor: pointer;\n",
              "      display: none;\n",
              "      fill: #1967D2;\n",
              "      height: 32px;\n",
              "      padding: 0 0 0 0;\n",
              "      width: 32px;\n",
              "    }\n",
              "\n",
              "    .colab-df-convert:hover {\n",
              "      background-color: #E2EBFA;\n",
              "      box-shadow: 0px 1px 2px rgba(60, 64, 67, 0.3), 0px 1px 3px 1px rgba(60, 64, 67, 0.15);\n",
              "      fill: #174EA6;\n",
              "    }\n",
              "\n",
              "    [theme=dark] .colab-df-convert {\n",
              "      background-color: #3B4455;\n",
              "      fill: #D2E3FC;\n",
              "    }\n",
              "\n",
              "    [theme=dark] .colab-df-convert:hover {\n",
              "      background-color: #434B5C;\n",
              "      box-shadow: 0px 1px 3px 1px rgba(0, 0, 0, 0.15);\n",
              "      filter: drop-shadow(0px 1px 2px rgba(0, 0, 0, 0.3));\n",
              "      fill: #FFFFFF;\n",
              "    }\n",
              "  </style>\n",
              "\n",
              "      <script>\n",
              "        const buttonEl =\n",
              "          document.querySelector('#df-37eae126-8e67-415e-bad6-e3456e7b59f5 button.colab-df-convert');\n",
              "        buttonEl.style.display =\n",
              "          google.colab.kernel.accessAllowed ? 'block' : 'none';\n",
              "\n",
              "        async function convertToInteractive(key) {\n",
              "          const element = document.querySelector('#df-37eae126-8e67-415e-bad6-e3456e7b59f5');\n",
              "          const dataTable =\n",
              "            await google.colab.kernel.invokeFunction('convertToInteractive',\n",
              "                                                     [key], {});\n",
              "          if (!dataTable) return;\n",
              "\n",
              "          const docLinkHtml = 'Like what you see? Visit the ' +\n",
              "            '<a target=\"_blank\" href=https://colab.research.google.com/notebooks/data_table.ipynb>data table notebook</a>'\n",
              "            + ' to learn more about interactive tables.';\n",
              "          element.innerHTML = '';\n",
              "          dataTable['output_type'] = 'display_data';\n",
              "          await google.colab.output.renderOutput(dataTable, element);\n",
              "          const docLink = document.createElement('div');\n",
              "          docLink.innerHTML = docLinkHtml;\n",
              "          element.appendChild(docLink);\n",
              "        }\n",
              "      </script>\n",
              "    </div>\n",
              "  </div>\n",
              "  "
            ],
            "text/plain": [
              "   AccuracyDropouts  LossesDropouts  AccuracyOptimizers  LossesOptimizers\n",
              "0          0.608696        0.945830            0.609395          0.946230\n",
              "1          0.614193        0.928212            0.601699          1.103255\n",
              "2          0.612894        0.919599            0.510345          1.586806\n",
              "3          0.608596        0.919751            0.200000          1.609439"
            ]
          },
          "execution_count": 72,
          "metadata": {},
          "output_type": "execute_result"
        }
      ],
      "source": [
        "summary = pd.DataFrame(list(zip(accuracyListDropouts, lostListDropouts, accuracyListOptimizers, lostListOptimizers)), columns = [\"AccuracyDropouts\", \"LossesDropouts\", \"AccuracyOptimizers\", \"LossesOptimizers\"])\n",
        "summary"
      ]
    },
    {
      "cell_type": "markdown",
      "metadata": {
        "id": "_I3amFaw2XIR"
      },
      "source": [
        "Le modèle ci-dessous semble donner les meilleurs résultats :"
      ]
    },
    {
      "cell_type": "code",
      "execution_count": null,
      "metadata": {
        "colab": {
          "base_uri": "https://localhost:8080/",
          "height": 803
        },
        "id": "GdzFLHdM0Alq",
        "outputId": "acbe2a99-2bc8-494b-e557-61f2ddfa93d8"
      },
      "outputs": [
        {
          "name": "stdout",
          "output_type": "stream",
          "text": [
            "Epoch 1/5\n",
            "250/250 [==============================] - 4s 13ms/step - loss: 1.2532 - accuracy: 0.4939 - val_loss: 0.9971 - val_accuracy: 0.5615\n",
            "Epoch 2/5\n",
            "250/250 [==============================] - 3s 14ms/step - loss: 0.9264 - accuracy: 0.6156 - val_loss: 0.9304 - val_accuracy: 0.5795\n",
            "Epoch 3/5\n",
            "250/250 [==============================] - 4s 17ms/step - loss: 0.8454 - accuracy: 0.6704 - val_loss: 0.9088 - val_accuracy: 0.5980\n",
            "Epoch 4/5\n",
            "250/250 [==============================] - 3s 13ms/step - loss: 0.7815 - accuracy: 0.7041 - val_loss: 0.9059 - val_accuracy: 0.6000\n",
            "Epoch 5/5\n",
            "250/250 [==============================] - 3s 13ms/step - loss: 0.7235 - accuracy: 0.7411 - val_loss: 0.9088 - val_accuracy: 0.5945\n",
            "Model: \"sequential_70\"\n",
            "_________________________________________________________________\n",
            " Layer (type)                Output Shape              Param #   \n",
            "=================================================================\n",
            " embedding_68 (Embedding)    (None, None, 32)          640032    \n",
            "                                                                 \n",
            " conv1d_68 (Conv1D)          (None, None, 32)          5152      \n",
            "                                                                 \n",
            " global_max_pooling1d_68 (Gl  (None, 32)               0         \n",
            " obalMaxPooling1D)                                               \n",
            "                                                                 \n",
            " dropout_59 (Dropout)        (None, 32)                0         \n",
            "                                                                 \n",
            " dense_75 (Dense)            (None, 5)                 165       \n",
            "                                                                 \n",
            "=================================================================\n",
            "Total params: 645,349\n",
            "Trainable params: 645,349\n",
            "Non-trainable params: 0\n",
            "_________________________________________________________________\n",
            "None\n"
          ]
        },
        {
          "data": {
            "image/png": "[encoded data removed]",
            "text/plain": [
              "<Figure size 432x288 with 1 Axes>"
            ]
          },
          "metadata": {},
          "output_type": "display_data"
        }
      ],
      "source": [
        "vocab_size=vocabulary_size + 1\n",
        "\n",
        "int_model1 = tf.keras.Sequential([\n",
        "    layers.Embedding(vocab_size, 32, mask_zero=True),\n",
        "    layers.Conv1D(32, 5, padding=\"causal\", activation=\"relu\", strides=2),\n",
        "    layers.GlobalMaxPooling1D(),\n",
        "    layers.Dropout(0.2),\n",
        "    layers.Dense(nb_labels)\n",
        "  ])\n",
        "\n",
        "int_model1.compile(\n",
        "    loss=losses.SparseCategoricalCrossentropy(from_logits=True),\n",
        "    optimizer='RMSprop',\n",
        "    metrics=['accuracy'])\n",
        "history = int_model1.fit(int_train_batch, validation_data=int_validation_batch, epochs=5)\n",
        "print(int_model1.summary())\n",
        "metrics = history.history\n",
        "plt.plot(history.epoch, metrics['loss'], metrics['val_loss'])\n",
        "plt.legend(['loss', 'val_loss'])\n",
        "plt.show()"
      ]
    },
    {
      "cell_type": "markdown",
      "metadata": {
        "id": "Vml6dj-Z0VBi"
      },
      "source": [
        "On s'attelle ensuite à la prédiction avec le modèle ci-dessus."
      ]
    },
    {
      "cell_type": "code",
      "execution_count": null,
      "metadata": {
        "colab": {
          "base_uri": "https://localhost:8080/"
        },
        "id": "gpk3tdyMbDak",
        "outputId": "8aeb6fa3-ad5b-4b79-fd9d-c683b7820bd7"
      },
      "outputs": [
        {
          "name": "stdout",
          "output_type": "stream",
          "text": [
            "313/313 [==============================] - 2s 6ms/step\n"
          ]
        }
      ],
      "source": [
        "# Creating a probability model for different classes for obtaining the probabilty\n",
        "# for each class\n",
        "probability_model = tf.keras.Sequential([int_model1, tf.keras.layers.Softmax()])\n",
        "\n",
        "\n",
        "# Prediction\n",
        "predictions = probability_model.predict(int_test_batch)"
      ]
    },
    {
      "cell_type": "markdown",
      "metadata": {
        "id": "SJ15XDQ8cFaO"
      },
      "source": [
        "Déterminons la classe avec la plus haute probabilité de toutes les classes"
      ]
    },
    {
      "cell_type": "code",
      "execution_count": null,
      "metadata": {
        "id": "bRxh0FzncCHC"
      },
      "outputs": [],
      "source": [
        "predictedlabels = [np.argmax(predictions[i]) for i in range(len(predictions))]"
      ]
    },
    {
      "cell_type": "code",
      "execution_count": null,
      "metadata": {
        "colab": {
          "base_uri": "https://localhost:8080/"
        },
        "id": "36ilcNH0cHXh",
        "outputId": "034b483c-9f3e-4651-c6b5-36717ab632e3"
      },
      "outputs": [
        {
          "name": "stdout",
          "output_type": "stream",
          "text": [
            "[0 4 3 4 1 2 3 1 3 4 4 2 2 3 3 1 2 3 1 1 2 4 1 2 1 1 0 3 4 4 1 0]\n",
            "32\n"
          ]
        }
      ],
      "source": [
        "data = test_batch.as_numpy_iterator()\n",
        "testdata = list(data)\n",
        "labels = [testdata[i][1] for i in range(len(testdata))]\n",
        "print(labels[1])\n",
        "print(len(labels[1]))"
      ]
    },
    {
      "cell_type": "markdown",
      "metadata": {
        "id": "sNYzu_bxiVDm"
      },
      "source": [
        "Evaluate the prediction using a confusion matrix\n"
      ]
    },
    {
      "cell_type": "code",
      "execution_count": null,
      "metadata": {
        "id": "9FiXMRAnji1Z"
      },
      "outputs": [],
      "source": [
        "labels_n =[]\n",
        "for i in range(len(testdata)):\n",
        "  for j in range(len(labels[i])):\n",
        "    labels_n.append(testdata[i][1][j])"
      ]
    },
    {
      "cell_type": "code",
      "execution_count": null,
      "metadata": {
        "colab": {
          "base_uri": "https://localhost:8080/"
        },
        "id": "ch2G7SKuiTdj",
        "outputId": "e33d2fe7-0917-4973-e47f-68e7a170380f"
      },
      "outputs": [
        {
          "name": "stdout",
          "output_type": "stream",
          "text": [
            "tf.Tensor(\n",
            "[[427 413 304 455 402]\n",
            " [395 468 320 437 381]\n",
            " [405 429 341 424 402]\n",
            " [426 438 329 446 362]\n",
            " [398 443 340 444 376]], shape=(5, 5), dtype=int32)\n"
          ]
        }
      ],
      "source": [
        "confusionmatrix = tf.math.confusion_matrix(labels_n, predictedlabels, num_classes=5)\n",
        "print(confusionmatrix)"
      ]
    },
    {
      "cell_type": "code",
      "execution_count": null,
      "metadata": {
        "colab": {
          "base_uri": "https://localhost:8080/",
          "height": 282
        },
        "id": "HM5OemI-ijKq",
        "outputId": "e764abff-5c83-46ee-943e-730322fb11a1"
      },
      "outputs": [
        {
          "data": {
            "text/plain": [
              "<matplotlib.axes._subplots.AxesSubplot at 0x7f707f223550>"
            ]
          },
          "execution_count": 32,
          "metadata": {},
          "output_type": "execute_result"
        },
        {
          "data": {
            "image/png": "[encoded data removed]",
            "text/plain": [
              "<Figure size 432x288 with 2 Axes>"
            ]
          },
          "metadata": {},
          "output_type": "display_data"
        }
      ],
      "source": [
        "sn.heatmap(confusionmatrix)"
      ]
    },
    {
      "cell_type": "markdown",
      "metadata": {
        "id": "_pbpSMxt3P4C"
      },
      "source": [
        "Pour les classes 2 et 4, les résultats ne sont pas satisfaisants. Cependant, on remarque que pour les autres classes, les prédictions semblent plus cohérentes, notamment pour la classe 1.\n",
        "\n",
        "De plus, voici la matrice de confusion obtenue pour un même modèle mais avec un jeu de données différent (les reviews Amazon de montres) :"
      ]
    },
    {
      "cell_type": "code",
      "execution_count": null,
      "metadata": {
        "colab": {
          "base_uri": "https://localhost:8080/",
          "height": 284
        },
        "id": "MwpGc68W4JIU",
        "outputId": "fa29e2a6-afea-43d7-d122-c7a52c9ce3b4"
      },
      "outputs": [
        {
          "data": {
            "text/plain": [
              "<matplotlib.axes._subplots.AxesSubplot at 0x7fc5ff683350>"
            ]
          },
          "execution_count": 54,
          "metadata": {},
          "output_type": "execute_result"
        },
        {
          "data": {
            "image/png": "[encoded data removed]",
            "text/plain": [
              "<Figure size 432x288 with 2 Axes>"
            ]
          },
          "metadata": {},
          "output_type": "display_data"
        }
      ],
      "source": [
        "#matrice de confusion obtenue pour un autre jeu de données"
      ]
    }
  ],
  "metadata": {
    "colab": {
      "collapsed_sections": [
        "5qVb4i_nR0RE"
      ],
      "provenance": []
    },
    "kernelspec": {
      "display_name": "Python 3",
      "name": "python3"
    },
    "language_info": {
      "name": "python"
    }
  },
  "nbformat": 4,
  "nbformat_minor": 0
}